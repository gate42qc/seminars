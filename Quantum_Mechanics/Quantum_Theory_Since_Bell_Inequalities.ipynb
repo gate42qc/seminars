{
 "cells": [
  {
   "cell_type": "markdown",
   "metadata": {
    "slideshow": {
     "slide_type": "slide"
    }
   },
   "source": [
    "# <center>Quantum mechanics</center>\n",
    "### <center>The Statistical Interpretation</center>\n",
    "\n",
    "#### <center> by Hakob Avetisyan, Gate42</center>\n"
   ]
  },
  {
   "cell_type": "markdown",
   "metadata": {
    "slideshow": {
     "slide_type": "slide"
    }
   },
   "source": [
    "## CONTENTS\n",
    "\n",
    "1. <font color='blue'>Mathematical Formalism of QM$^{[1]}$  </font>\n",
    "2. <font color='blue'>The EPR Theorem$^{[1]}$  </font>\n",
    "3. <font color='blue'>Uncertainty Principle$^{[1]}$  </font>\n",
    "4. <font color='blue'>Measurement$^{[1]}$  </font>\n",
    "5. <font color='blue'>Probability Theory in QM$^{[2]}$  </font>\n",
    "6. <font color='blue'>Hidden Variables$^{[1]}$, CHSH inequality$^{[3]}$  </font>\n",
    "7. <font color='blue'>Bell's Theorem$^{[4]}$  </font>\n",
    "8. <font color='blue'>Reality, Inductive Inference, EPR-Locality$^{[5]}$  </font>\n",
    "9. <font color='blue'>Kochen-Specker Theorem$^{[6-10]}$  </font>\n",
    "\n",
    "\n",
    "[1] RevModPhys, 42(4), 358 (1970)  \n",
    "[2] AmJPhys, 54(10), 883 (1986)  \n",
    "[3] Nuovo Cimento 38B(1), 75 (1977)  \n",
    "[4] AmJPhys, 55(8), 696 (1987)  \n",
    "[5] ScientificAmerican, 241, 158 (1979)  \n",
    "[6] Asher Peres, Quantum Theory: Concepts and Methods  \n",
    "[7] JPhys, A 24, L175 (1991)    \n",
    "[8] JPhys, A 27, L829 (1994)  \n",
    "[9] PhysLett, A 212, 183 (1996)  \n",
    "[10] AmJPhys, 61, 443 (1993)"
   ]
  },
  {
   "cell_type": "markdown",
   "metadata": {
    "slideshow": {
     "slide_type": "slide"
    }
   },
   "source": [
    "## Any <font color='red'>successful theory</font> in the physical sciences is expected to make <font color='red'>accurate predictions</font>. \n",
    "### Given some well-defined experiment, the theory should correctly specify the outcome or should at least assign the correct probabilities to all the possible out comes.\n",
    "## <font color='blue'>From this point of view QM is highly successful.</font>\n",
    "### As the fundamental modern theory of atoms, of molecules, of elementary particles, of electromagnetic radiation and of the solid state it supplies meth­ods for calculating the results of experiments in all these realms.\n",
    "Bernard d'Espagnat\n"
   ]
  },
  {
   "cell_type": "markdown",
   "metadata": {
    "slideshow": {
     "slide_type": "slide"
    }
   },
   "source": [
    "# MATH FORMALISM\n",
    "#### A theory can be divided into:\n",
    "* set of primitive concepts & relations between them\n",
    "* rules to relate the concepts to experiment\n",
    "\n",
    "### 1. State\n",
    "### <center>$\\rho = \\rho^{\\dagger}$ $\\leftarrow$ self adjoint on Hilbert Space</center>\n",
    "### <center>$\\rho=\\sum_n\\rho_n|\\phi_n\\rangle\\langle\\phi_n|$ $\\leftarrow$ spectral decomposition</center>\n",
    "### <center>$0\\leq\\rho\\leq1$ $\\leftarrow$ positive semidefinite</center>\n",
    "### <center>$\\sum_n\\rho_n=1$ $\\leftarrow$ unit trace</center>\n",
    "Fano, RevModPhys $\\textbf{29}$, 74 (1957)"
   ]
  },
  {
   "cell_type": "markdown",
   "metadata": {
    "slideshow": {
     "slide_type": "subslide"
    }
   },
   "source": [
    "### 2. Pure State\n",
    "### <center>$\\rho^2 = \\rho$ $\\leftarrow$ definition</center>\n",
    "### <center>$\\rho_n = 1$, $\\rho_n^{'}=0$, for $n\\neq n^{'}$ </center>\n",
    "### <center>$\\rho=|\\phi_n\\rangle\\langle\\phi_n|$</center>\n",
    "### <center> if not pure  = mixed state</center>\n"
   ]
  },
  {
   "cell_type": "markdown",
   "metadata": {
    "slideshow": {
     "slide_type": "subslide"
    }
   },
   "source": [
    "### 3. Observable\n",
    "### <center>$R = R^{\\dagger}$ $\\leftarrow$ self adjoint on Hilbert Space</center>\n",
    "### <center>$R=\\sum_nr_n\\Pi_n$ $\\leftarrow$ spectral decomposition</center>\n",
    "#### <center>$\\Pi_n=\\sum_a|a,r_n\\rangle\\langle a,r_n|$ $\\leftarrow$ orthogonal projectors</center>\n",
    "\n",
    "### 4. Average of obs $R$ in state $\\rho$\n",
    "### <center>$\\langle R\\rangle = Tr(\\rho R), \\hspace{1cm} \\langle R\\rangle =\\langle\\psi|R|\\psi\\rangle $ $\\leftarrow$ Born's rule </center>\n",
    "By introducing the characteristic function $\\langle\\exp(i\\xi R)\\rangle$, can obtain the entire statistical distribution of the observable $R$ in the state $\\rho$."
   ]
  },
  {
   "cell_type": "markdown",
   "metadata": {
    "slideshow": {
     "slide_type": "subslide"
    }
   },
   "source": [
    "### 5. The only values which an <font color='red'>observable may take</font> on are its <font color='red'>eigenvalues</font>, and the probabilities of each of the eigenvalues can be calculated:\n",
    "### <center>$P(r_n) = Tr(\\rho \\Pi_n), \\hspace{1cm} P(r_n) = \\sum_a |\\langle\\psi|a,r_n\\rangle|^2$ </center>\n",
    "### 6. Hilbert Space is a direct sum of coherent subspaces\n",
    "### <center> $\\mathbb{H}=\\mathbb{H_1}\\oplus\\mathbb{H_2}\\oplus\\cdots\\oplus\\mathbb{H_n}$$\\hspace{1cm}\\leftarrow$ superposition principle</center>\n",
    "in each $\\mathbb{H_i}$, every vector may represent a pure state\n",
    "\n",
    "### 7. Any self-adjoint operator,  all of whose eigenvectors lie within coherent subspaces, represents an observable.\n",
    "\n",
    "### 8. The dynamical law\n",
    "### <center> $\\rho(t)=U(t,t_0)\\rho(t_0)U(t,t_0)^{-1},\\hspace{0.5cm}U(t,t_0)\\hspace{0.1cm}$ is unitary</center>"
   ]
  },
  {
   "cell_type": "markdown",
   "metadata": {
    "slideshow": {
     "slide_type": "slide"
    }
   },
   "source": [
    "# Correspondence rules\n",
    "### <center>state, observable $\\leftarrow\\rightarrow$ empirical reality</center>\n",
    "## Observable \n",
    "### dynamical variable whose value can be measured\n",
    "#### If $pq-qp\\neq 0\\rightarrow$ no general rule to constract operator to represent $f(p,q)$\n",
    "#### Fortunately, can determine the Hamiltonian operator for any finite number of particles interacting through <font color='red'>velocity-independent </font> potentials in the presence of an arbitrary external electromagnetic field \n",
    "## State\n",
    "### provides a description of certain statistical properties of an <font color='red'>ensemble of similarily prepared systems</font>, but need not provide a complete description of an <font color='red'>individual</font> system."
   ]
  },
  {
   "cell_type": "markdown",
   "metadata": {
    "slideshow": {
     "slide_type": "subslide"
    }
   },
   "source": [
    "#### Example: \n",
    "### <font color='red'>system</font>:  single electron\n",
    "### <font color='red'>ensemble</font>: electrons output from acceleration machine one by one. They are similar in momentum, not similar in position\n",
    "### (<font color='red'> Uncertainty principle:</font> not possible to prepare systems with ALL observable properties similar)\n",
    "#### <font color='red'>beam of electrons</font> = many-body problem\n",
    "\n",
    "### <center>QM ensemble (prepd experimentally) $\\neq$ Thermod ensemble (calc device)</center>\n",
    "#### QM: Prep --> meas --> see statistics\n",
    "#### Thermodyn: Calc on ensemble --> compare with measurement on <font color='red'>single</font> system"
   ]
  },
  {
   "cell_type": "markdown",
   "metadata": {
    "slideshow": {
     "slide_type": "slide"
    }
   },
   "source": [
    "# EPR Theorem\n",
    "1. \"Every element of physical reality must have a counterpart in the physical theory.\" -- necessary condition for complete theory.\n",
    "2. If, without in any way disturbing a system, we can predict with certainty (p=1), the value of a physical quantity, then there exists an element of physical reality corresponding to this physical quantity. -- sufficient for $\\exists$ element of reality.\n",
    "\n",
    "### <center>$|\\psi\\rangle=\\left(|01\\rangle-|10\\rangle\\right)/\\sqrt(2)\\hspace{0.5cm}\\leftarrow$singlet state</center>\n",
    "\n",
    "#### measure $\\sigma_{z1}$, know  $\\sigma_{z2}$(w/ p=1) $ \\Longrightarrow$ $\\sigma_{z2}$is an <font color='red'>element of reality</font>\n",
    "\n",
    "### <center> $|\\psi\\rangle=\\left(|+-\\rangle-|-+\\rangle\\right)\\sqrt(2)\\hspace{0.5cm}\\leftarrow$singlet state</center>\n",
    "\n",
    "#### measure $\\sigma_{x1}$, know $\\sigma_{x2}$(w/ p=1) $ \\Longrightarrow$ $\\sigma_{x2}$ is an <font color='red'>element of reality</font>\n",
    "\n",
    "#### as $\\sigma_{z}\\sigma_{x}-\\sigma_{x}\\sigma_{z}\\neq 0$  no state $ |\\psi\\rangle$ can provide a value for both $\\sigma_z$ and $\\sigma_x$ $\\hspace{0.5cm}\\Longrightarrow \\hspace{0.5cm}|\\psi\\rangle$ doesn't provide complete description of an individual system"
   ]
  },
  {
   "cell_type": "markdown",
   "metadata": {
    "slideshow": {
     "slide_type": "subslide"
    }
   },
   "source": [
    "### Theorem (EPR)\n",
    "### a) $|\\psi\\rangle$ provides complete description of an individual system (Bohr accepted this)\n",
    "### b) Physical conditions of sepatared objects are independent (Einstein accepted this)\n",
    "### <font color='red'>a) & b) are incompatible!</font>\n",
    "### Statistical interpretation: <font color='red'>repeat many times, get 50%-50% results</font>"
   ]
  },
  {
   "cell_type": "markdown",
   "metadata": {
    "slideshow": {
     "slide_type": "slide"
    }
   },
   "source": [
    "## Uncertainty Principle\n",
    "#### For each $|\\psi\\rangle$ corresponds  statistical distribution of values of observables\n",
    "### <center>$ (\\Delta A)^2 = \\langle (A-\\langle A\\rangle)^2\\rangle $</center>\n",
    "### <center>$ (\\Delta A)^2 (\\Delta B)^2 \\geq [\\langle AB+BA\\rangle -\\langle A\\rangle\\langle B\\rangle]^2/4 + \\langle 1/i(AB-BA)\\rangle^2/4 $</center>\n",
    "### <font color='red'>Experimentally:</font> measure $A$ on similarly prepared systems$\\rightarrow$  constract distribution $\\rightarrow$ std($A$)$\\rightarrow$ same for $B$\n",
    "### $\\Longrightarrow std(A)std(B)\\geq$ some lower limit for a particular state $\\rho$\n",
    "### <font color='red'>Theoretically:</font> $\\langle A\\rangle=\\langle\\psi| A|\\psi\\rangle$ "
   ]
  },
  {
   "cell_type": "markdown",
   "metadata": {
    "slideshow": {
     "slide_type": "subslide"
    }
   },
   "source": [
    "<img src=\"images/uncertainty.png\">\n",
    "#### $\\delta q, \\hspace{0.3cm} \\delta p$ are the errors of individual measurements\n",
    "#### Uncertainty Principle = statement about <font color='blue'> state preparation</font> (refers to \"future\"), not measurement (refers to \"past\")\n",
    "##### Filtering type of state preparation nowadays is refered as measurement (confusingly)"
   ]
  },
  {
   "cell_type": "markdown",
   "metadata": {
    "slideshow": {
     "slide_type": "slide"
    }
   },
   "source": [
    "# Measurement\n",
    "#### Measurement is an interaction between the object and apparatus so that a correspondence is set up between the <font color='red'>initial state</font> of the object and the <font color='red'>final state</font> of the apparatus. \n",
    "#### The apparatus must be treated <font color='blue'>as quantum</font> while interacts with object, and <font color='blue'>classical</font>, once measurement is over."
   ]
  },
  {
   "cell_type": "markdown",
   "metadata": {
    "slideshow": {
     "slide_type": "subslide"
    }
   },
   "source": [
    "To measure observable $R$, should set up correspondence \n",
    "#### Final state of the object has no significance to the success of the measurement. Equation of motion must lead to\n",
    "### <center>$ U|r,0\\rangle = |r,\\alpha_r\\rangle \\leftarrow$ if $R$ is not changed by interaction</center>\n",
    "### <center>$ U|r,0\\rangle = |\\phi_r,\\alpha_r\\rangle \\leftarrow$ general case</center>\n",
    "##### $\\alpha_r$ is the \"pointer\" position label, $|r\\rangle$ is the eigenvector of $R$\n",
    "\n",
    "###  $\\{|\\phi_r, \\alpha_r\\rangle \\}$ are orthonormal, because $\\alpha_r \\neq \\alpha_{r^{'}}$ , $\\{|\\phi_r\\rangle \\}$ need not be orthonormal\n"
   ]
  },
  {
   "cell_type": "markdown",
   "metadata": {
    "slideshow": {
     "slide_type": "subslide"
    }
   },
   "source": [
    "### <center>$ U|\\psi,0\\rangle = U\\sum_r|r\\rangle\\langle r|\\psi,0\\rangle = \\sum_r\\langle r|\\psi\\rangle |\\phi_r, \\alpha_r\\rangle \\equiv |final\\rangle \\leftarrow$ for general $|\\psi\\rangle$, not e-state of $R$</center>\n",
    "\n",
    "### <center>P(\"pointer\"=$\\alpha_r$)$=|\\langle r|\\psi\\rangle|^2 \\leftarrow $identical to $P(r)$ for obs $R$  <font color='red'> before </font> interacting with apparatus </center>\n",
    "### <center><font color='red'> No need of \"collapse\"</font></center>"
   ]
  },
  {
   "cell_type": "markdown",
   "metadata": {
    "slideshow": {
     "slide_type": "subslide"
    }
   },
   "source": [
    "#### After the interaction between the object and the apparatus, the final state operator for the combiried system:\n",
    "### <center>$\\rho_{final}=|final\\rangle\\langle final|=\\sum_r\\sum_{r'}\\langle r|\\psi\\rangle\\langle \\psi|r'\\rangle|\\phi_r,\\alpha_r\\rangle\\langle \\phi_{r'},\\alpha_{r'}|$ </center>\n",
    "### If \"collapse\" accepted: \n",
    "### <center>$\\rho_{mixed}=\\sum_r|\\langle r|\\psi\\rangle|^2|\\phi_r,\\alpha_r\\rangle\\langle \\phi_{r},\\alpha_{r}|\\leftarrow$ correct answer for P(\"pointer\"$=\\alpha_r$), BUT </center>\n",
    "### <center>$\\langle M\\rangle=Tr(\\rho_{final}M)=\\sum_{rr'}\\langle r|\\psi\\rangle\\langle \\psi|r'\\rangle \\langle \\phi_{r'},\\alpha_{r'}| M |\\phi_r,\\alpha_r\\rangle$<center>\n",
    "### <center>$\\langle M\\rangle=Tr(\\rho_{mix}M)=\\sum_{r}|\\langle r|\\psi\\rangle|^2 \\langle \\phi_{r},\\alpha_{r}| M |\\phi_r,\\alpha_r\\rangle$<center>\n",
    "### Will not agree if $M\\neq I\\otimes M_2$ or $M\\neq M_1\\otimes I$ and if $|\\phi_r\\rangle$ are not orthogonal"
   ]
  },
  {
   "cell_type": "markdown",
   "metadata": {
    "slideshow": {
     "slide_type": "slide"
    }
   },
   "source": [
    "# Joint Probability Distribution\n",
    "#### Extention of the formalism\n",
    "#### Goal: construct $P(q,p;\\psi)$ for any $|\\psi\\rangle$ s.t.\n",
    "### (1) $\\int P(q,p;\\psi)dp\\equiv P(q;\\psi)=|\\langle\\psi|q\\rangle|^2$\n",
    "### (2) $\\int P(q,p;\\psi)dq\\equiv P(p;\\psi)=|\\langle\\psi|p\\rangle|^2$\n",
    "### (3) $P(q,p;\\psi)\\geq 0$\n",
    "### Turns out (3) is not satisfied for all quantum states, but even in those cases (1) and (2) hold"
   ]
  },
  {
   "cell_type": "markdown",
   "metadata": {
    "slideshow": {
     "slide_type": "subslide"
    }
   },
   "source": [
    "### A method for constracting a single observable pdf: <font color='blue'>characteristic function</font> for arbitrary obs A:\n",
    "#### <center>$ M(\\xi ;\\psi)=\\langle \\exp(i\\xi A)\\rangle = \\sum_{n=0}^{\\infty}\\frac{(i\\xi)^n}{n!}\\langle A^n\\rangle$ </center>\n",
    "#### $$M(\\xi ;\\psi)=\\int \\exp(i\\xi A)P(A;\\psi)dA$$\n",
    "####  <center>By QM: $\\langle A^n\\rangle = \\langle \\psi|\\hat{A}^n|\\psi\\rangle $</center>\n",
    "### <center>$\\Longrightarrow P(A;\\psi)=(1/2\\pi)\\int \\exp(-i\\xi A)M(\\xi;\\psi)d\\xi$ </center>\n",
    "### Might try <center>$ M(\\theta,\\lambda ;\\psi)=\\langle \\exp(i(\\theta q + \\lambda p))\\rangle = \\sum_{n,m=0}^{\\infty}\\frac{(i\\theta)^n(i\\lambda)^m}{n!m!}\\langle q^np^m\\rangle $</center>\n",
    "### <center>$\\Longrightarrow P(q,p;\\psi)= (1/2\\pi)^2\\iint \\exp(-i(\\theta q +\\lambda p))M(\\theta,\\lambda;\\psi)d\\theta d\\lambda$ </center>"
   ]
  },
  {
   "cell_type": "markdown",
   "metadata": {
    "slideshow": {
     "slide_type": "subslide"
    }
   },
   "source": [
    "### no unique way to take products of noncommuting operators $q^np^m$ and none are satisfactory, because $P(q,p;\\psi)$ takes negative values for some cases. Different approaches even introduced complex valued pdf-s. All failed. Its OK, because \n",
    "### QM has nothing to say about simultaneous measurements of <font color='red'> non-commuting</font> observables. ONLY for single obs, or COMMUTING set of obs\n",
    "\n",
    "## <center>Q: <font color='blue'>Does QM satisfy the axioms of Probability Theory?</font></center>"
   ]
  },
  {
   "cell_type": "markdown",
   "metadata": {
    "slideshow": {
     "slide_type": "slide"
    }
   },
   "source": [
    "# <center>Probability Theory in QM</center>\n",
    "### <center>AmJPhys 54(10), 883 (1986)</center>"
   ]
  },
  {
   "cell_type": "markdown",
   "metadata": {
    "slideshow": {
     "slide_type": "subslide"
    }
   },
   "source": [
    "## The axioms\n",
    "## 1. $ 0\\leq P(A|B)\\leq 1$\n",
    "## 2. $ P(A|A)=1$\n",
    "## 3. $ P(\\tilde A|B)=1-P(A|B)$\n",
    "## 4. $ P(A,B|C)=P(A|C)P(B|A,C)$"
   ]
  },
  {
   "cell_type": "markdown",
   "metadata": {
    "slideshow": {
     "slide_type": "subslide"
    }
   },
   "source": [
    "#### Limit frequency interpretation: $n$ repetitions, $m$ times $A$ occurs, $C=\\{A, \\tilde A\\}$\n",
    "### <center>$P(A|C)=\\lim_{n\\rightarrow\\infty} (m/n)\\longleftarrow \\exists ?$</center>\n",
    "### Propensity interpretation: $P(A|C)$ is a measure of tendency or <font color='blue'>propensity of physical conditions $C$ </font>to produce result $A$\n",
    "#### $A=$\"particle's position lies in $[q_1, q_2]$ interval\" \n",
    "#### $C_q=$\"config of position measuring device\"  $\\rightarrow P(A|C_q)$ \n",
    "#### No occasion to consider $P(A,B|C)$ if $AB-BA\\neq 0$"
   ]
  },
  {
   "cell_type": "markdown",
   "metadata": {
    "slideshow": {
     "slide_type": "subslide"
    }
   },
   "source": [
    "### <center>Propensity $\\leftarrow$ LOLN $\\rightarrow$ Limit Frequency </center>\n",
    "### <center>$P(|f-p|\\geq \\epsilon | E^n)\\leq \\frac{1}{n\\epsilon^2}\\langle(K_i-p)^2\\rangle$</center>\n",
    "#### where $p=P(A|E),\\hspace{0.4cm} f=m/n=(1/n)\\sum K_i$"
   ]
  },
  {
   "cell_type": "markdown",
   "metadata": {
    "slideshow": {
     "slide_type": "subslide"
    }
   },
   "source": [
    "## Probability in QM\n",
    "### <center>$P(R=r_n|\\psi)=|\\langle r_n|\\psi\\rangle|^2$</center>\n",
    "#### $\\psi=$ state prep procedure, $|\\psi\\rangle =$ math obj to calc pdf of obs\n",
    "#### 1. $0\\leq P \\leq 1 \\longleftarrow |\\langle r_n|\\psi\\rangle|^2 \\leq \\langle r_n|r_n\\rangle\\langle \\psi|\\psi\\rangle$\n",
    "#### 2. $P(R = r_n|r_n)=1$\n",
    "#### 3. $P(R\\neq r_n|\\psi)=1-\\sum_{r_n}|\\langle r_n|\\psi\\rangle|^2$\n",
    "#### 4. particular case: $|\\psi\\rangle=|\\psi\\rangle_a|\\psi\\rangle_b \\Longrightarrow P(R_a=r_m, R_b=r_n|\\psi)=|\\langle r_m|\\psi\\rangle_a|^2|\\langle r_n|\\psi\\rangle_b|^2$\n",
    "#### <center>Born rule satisfies all 4 axioms </center>"
   ]
  },
  {
   "cell_type": "markdown",
   "metadata": {
    "slideshow": {
     "slide_type": "subslide"
    }
   },
   "source": [
    "### axiom 4. for general case $P(A,B|\\rho)=P(A|\\rho)P(B|A,\\rho)$\n",
    "### By QM: $P(A,B|\\rho)=Tr\\left[\\rho \\Pi_A(\\Delta_a)\\Pi_B(\\Delta_b)\\right], \\hspace{1cm} [A,B]\\neq 0$\n",
    "#### where $\\Pi_A(\\Delta_a)=\\sum_{a\\in\\Delta}|a\\rangle \\langle a|$\n",
    "### $P(A|\\rho)=Tr[\\rho \\Pi_A(\\Delta_a)]$\n",
    "### $P(B|A,\\rho):$ system has been subjected to <font color='red'>filtering</font> that ensures e-values of $A\\in \\Delta_a$\n",
    "### <center>$\\Longrightarrow \\rho'=\\frac{\\Pi_A(\\Delta_a)\\rho\\Pi_A(\\Delta_a)}{Tr[\\Pi_A(\\Delta_a)\\rho\\Pi_A(\\Delta_a)]}$</center>"
   ]
  },
  {
   "cell_type": "markdown",
   "metadata": {
    "slideshow": {
     "slide_type": "subslide"
    }
   },
   "source": [
    "#### for RHS of $P(A,B|\\rho)=P(A|\\rho)P(B|A,\\rho)$:\n",
    "### $P(A|\\rho)P(B|A,\\rho)=Tr[\\rho' \\Pi_B(\\Delta_b)]Tr[\\rho \\Pi_A(\\Delta_a)]$\n",
    "### $P(A|\\rho)P(B|A,\\rho)=Tr[\\Pi_A(\\Delta_a)\\rho \\Pi_A(\\Delta_a)\\Pi_B(\\Delta_b)]$\n",
    "### $P(A|\\rho)P(B|A,\\rho)=Tr[\\rho \\Pi_A(\\Delta_a)\\Pi_B(\\Delta_b)]=P(A,B|\\rho)$ only when $[\\Pi_A(\\Delta_a),\\Pi_B(\\Delta_b)]=0$\n",
    "### if $[\\Pi_A(\\Delta_a),\\Pi_B(\\Delta_b)]\\neq 0$, QM cannot assign meaning to $P(A,B|\\rho)$"
   ]
  },
  {
   "cell_type": "markdown",
   "metadata": {
    "slideshow": {
     "slide_type": "subslide"
    }
   },
   "source": [
    "## A. [Double Slit](https://www.youtube.com/watch?v=ToRdROokUhs) Fallacy \n",
    "<img src='images/interferenza.jpg'> \n",
    "### As exclusive events, $P_{12}(X)=P_1(X)+P_2(X)$, wrongly concluded Prob Th doesn't hold for QM. \n",
    "### Right way is to condition on state preparation: $P(X|C_3)\\neq P(X|C_1)+P(X|C_2)$. Does not contradict to Prob Th\n"
   ]
  },
  {
   "cell_type": "markdown",
   "metadata": {
    "slideshow": {
     "slide_type": "subslide"
    }
   },
   "source": [
    "## Superposition Fallacy\n",
    "### As in QM <center>$\\langle B|A\\rangle=\\sum_{C'}\\langle B|C\\rangle\\langle C|A\\rangle$</center>\n",
    "\n",
    "### Usually concluded the product-sum rule <center>$P(B|A)=\\sum_{C'}P(B|C)P(C|A)$</center> holds if Q interference terms  negligible. <font color='red'> Wrong </font>\n"
   ]
  },
  {
   "cell_type": "markdown",
   "metadata": {
    "slideshow": {
     "slide_type": "subslide"
    }
   },
   "source": [
    "### <font color='blue'> Correct: </font> start with\n",
    "#### <center> $P(B,C|A)=P(B|C,A)P(C|A)$ </center>\n",
    "#### <center> $\\sum_C P(B,C|A)=\\sum_C P(B|C,A)P(C|A)$ </center>\n",
    "#### <center> $P(B,C_1|A)+P(B,C_2|A)+\\cdots =\\sum_C P(B|C,A)P(C|A)$ </center>\n",
    "#### <center> $\\sum_C P(B,(C_1\\vee C_2\\vee\\cdots)|A)=\\sum_C P(B|C,A)P(C|A)$ </center>\n",
    "#### <center> $P(B|A)=\\sum_C P(B|C,A)P(C|A)$ </center>"
   ]
  },
  {
   "cell_type": "markdown",
   "metadata": {
    "slideshow": {
     "slide_type": "slide"
    }
   },
   "source": [
    "# Hidden Variables\n",
    "\n",
    "### If $|\\psi\\rangle$ <font color='red'> not e-vector </font> of obs being measured $\\Longrightarrow$ individual event is NOT determined by QM\n",
    "### $\\Longrightarrow$ Maybe $\\exists $ HVs, not controllable in state prep, s. t.  stat distribution of QM are averaged over HVs?"
   ]
  },
  {
   "cell_type": "markdown",
   "metadata": {
    "slideshow": {
     "slide_type": "subslide"
    }
   },
   "source": [
    "#### <font color='red'>Von Neumann's Thm: </font> No HV Theory is able to reproduce QM predictions (math was OK in the thm, physical conclusion was wrong)\n",
    "\n",
    "#### <font color='blue'> Bohm </font> provides 1st hidden variables theory: PhysRev 85, 166, (1952), PhysRev 85, 180 (1952)\n",
    "#### <font color='blue'> Bell </font> Clarifies Von Neumann's Thm & relation to HV: RevModPhys. 38, 447 (1966)\n",
    "\n",
    "### QM doesn't demand HV, but makes search for them reasonable"
   ]
  },
  {
   "cell_type": "markdown",
   "metadata": {
    "slideshow": {
     "slide_type": "subslide"
    }
   },
   "source": [
    "## Bell's Theorem\n",
    "### <center> <font color='red'>No local theory can reproduce QM predictions</font> </center>\n",
    "### <center><font color='blue'>OR:</font> $\\exists$ conflict between QM predictions & Locality</center>\n",
    "#### Locality = predictive completeness (wait for it!)"
   ]
  },
  {
   "cell_type": "markdown",
   "metadata": {
    "slideshow": {
     "slide_type": "subslide"
    }
   },
   "source": [
    "## CHSH inequality [Nuovo Cimento 38B(1), 75 (1977)]\n",
    "#### Constraint on the statistics of \"coincidences\" in a Bell test experiment. \n",
    "#### <font color='red'>Local theroies must satisfy it.</font> PhysRevLett, 23, 880 (1969).\n",
    "<img src='images/bell_test.png'>\n",
    "### <font color='red'> Natural thought:</font> what happens in $\\alpha$ is independent of knob setting of $\\beta$"
   ]
  },
  {
   "cell_type": "markdown",
   "metadata": {
    "slideshow": {
     "slide_type": "subslide"
    }
   },
   "source": [
    "#### $j^{th}$ event = response of $\\alpha_j$ and $\\beta_j \\in \\{\\pm 1\\}$ \n",
    "### Correlation: $C = \\frac{1}{N}\\sum_j \\alpha_j \\beta_j\\equiv\\langle\\alpha_j\\beta_j\\rangle$\n",
    "### Only <font color='blue'> one </font> setting will be chosen in experiment at a time\n",
    "### <font color='blue'>Locality assumption:</font> \n",
    "### $\\alpha_j=\\{\\pm 1\\}$ whatever knob setting $\\beta$, $\\hspace{0.5cm}\\beta_j=\\{\\pm 1\\}$ whatever knob setting $\\alpha$"
   ]
  },
  {
   "cell_type": "markdown",
   "metadata": {
    "slideshow": {
     "slide_type": "subslide"
    }
   },
   "source": [
    "### def <center>$\\gamma_j = \\alpha_{1j}\\beta_{1j} + \\alpha_{2j}\\beta_{1j} + \\alpha_{1j}\\beta_{2j} - \\alpha_{2j}\\beta_{2j}$</center>\n",
    "### <center>$\\gamma_j = (\\alpha_{1j}+\\alpha_{2j})\\beta_{1j} + (\\alpha_{1j}-\\alpha_{2j})\\beta_{1j}=$ even integer $\\leq 2$</center>\n",
    "### <center>$C = \\langle \\gamma_j\\rangle = C^{11}+C^{12}+C^{21}-C^{22} \\leq 2$</center>\n",
    "### QM predition for singlet state <center>$|\\psi\\rangle = \\frac{1}{\\sqrt(2)}|01\\rangle-|10\\rangle \\Longrightarrow C^{QM}_{singlet}=\\cos(2\\alpha-a\\beta)$</center>\n",
    "### <center><font color='red'>$C^{QM}_{singlet} = 2\\sqrt(2)$</font> $\\hspace{0.3cm}$ for $\\hspace{0.3cm}\\alpha_1=\\pi/4,\\hspace{0.3cm} \\alpha_2=0, \\hspace{0.3cm}\\beta_1=\\pi/8,\\hspace{0.3cm} \\beta_2=3\\pi/8$</center>"
   ]
  },
  {
   "cell_type": "markdown",
   "metadata": {
    "slideshow": {
     "slide_type": "slide"
    }
   },
   "source": [
    "## Bell's Thm: Does QM contradict relativity?\n",
    "\n",
    "### 1. Special Relativity demands \"no spooky acion at a distance\"\n",
    "### 2. Locality implies Bell's thm\n",
    "### 3. QM violates Bell's inequality\n",
    "### <center>$\\Longrightarrow$ QM contradicts relativity! (<font color='blue'> Does it?</font>)</center>"
   ]
  },
  {
   "cell_type": "markdown",
   "metadata": {
    "slideshow": {
     "slide_type": "subslide"
    }
   },
   "source": [
    "### Simple locality = nonlocal causality (can't transmit info faster than $c$)\n",
    "### Bell's thm requires stronger locality assumption\n",
    "### stronger locality = simple locality(OK with QM) + predictive completeness(fails for QM)"
   ]
  },
  {
   "cell_type": "markdown",
   "metadata": {
    "slideshow": {
     "slide_type": "subslide"
    }
   },
   "source": [
    "## Back to Spin Correlation Experiment\n",
    "#### simple locality:\n",
    "### <center>$Q_A(x_A|\\vec{n_A}, S_A, S_B^0,\\lambda)=\\sum_{x_B}P(x_A,x_B|\\vec{n_A}, \\vec{n_B}, S_A, S_B,\\lambda)$</center>\n",
    "### <center>$Q_B(x_B|\\vec{n_B}, S_B, S_A^0,\\lambda)=\\sum_{x_A}P(x_A,x_B|\\vec{n_A}, \\vec{n_B}, S_A, S_B,\\lambda)$</center>\n",
    "#### $\\lambda$ = state of 2-particle sys ($|\\psi\\rangle$, or $|\\psi\\rangle$ \"+\" HV)\n",
    "#### $\\vec{n_A}, \\vec{n_B}$: unit vectors defining the spin-component to be measured\n",
    "#### $S_A, S_B$: premeasurement settings, $S^0$: device not operating"
   ]
  },
  {
   "cell_type": "markdown",
   "metadata": {
    "slideshow": {
     "slide_type": "subslide"
    }
   },
   "source": [
    "## Proof that QM is OK with simple locality\n",
    "### $$(\\vec{\\sigma_A} \\cdot \\vec{n_A})|x_A\\rangle=x_A|x_A\\rangle, \\hspace{0.2cm}(\\vec{\\sigma_B} \\cdot \\vec{n_B})|x_B\\rangle=x_B|x_B\\rangle$$\n",
    "### <center>$P(x_A,x_B)=\\langle x_A,x_B|\\rho_{AB}|x_A,x_B\\rangle$</center>\n",
    "### $$Q_A(x_A)=Tr_B[|x_A\\rangle\\langle x_A|\\rho_{AB}]=Tr[|x_A\\rangle\\langle x_A|\\rho_{A}]=\\langle x_A|\\rho_A|x_A\\rangle$$\n",
    "### where $\\rho_A=Tr_B[\\rho_{AB}]=\\sum_{x_B}\\langle x_B|\\rho_{AB}|x_B\\rangle$\n",
    "### $$Q_A(x_A)=\\sum_{x_B}\\langle x_A,x_B|\\rho_{AB}| x_A,x_B\\rangle=\\sum_{x_B}P(x_A,x_B)$$"
   ]
  },
  {
   "cell_type": "markdown",
   "metadata": {
    "slideshow": {
     "slide_type": "subslide"
    }
   },
   "source": [
    "## Strong Locality\n",
    "#### <center>$P(x_A,x_B|\\vec{n_A}, \\vec{n_B}, S_A, S_B,\\lambda)=Q_A(x_A|\\vec{n_A}, S_A, S_B^0,\\lambda) \\cdot Q_B(x_B|\\vec{n_B}, S_B, S_A^0,\\lambda)$</center>\n",
    "#### does not hold if $\\lambda = |\\psi\\rangle$ is quantum\n",
    "#### For more general $\\lambda$, observed would be <center>$P_{obs}(x_A,x_B)=\\int Q_A(x_A|\\vec{n_A}, S_A, S_B^0,\\lambda) \\cdot Q_B(x_B|\\vec{n_B}, S_B, S_A^0,\\lambda)\\rho(\\lambda)d\\lambda$</center>\n",
    "#### No $\\rho(\\lambda)$ can obey the above & QM predictions  (Bell's thm)"
   ]
  },
  {
   "cell_type": "markdown",
   "metadata": {
    "slideshow": {
     "slide_type": "subslide"
    }
   },
   "source": [
    "## Determinism\n",
    "### $$P(x_A,x_B|\\cdots)= \\begin{cases}1& \\quad \\text{for particular} & x_A^{'}, x_B^{'}\\\\ 0&\\quad\\text{for others}\\end{cases}$$\n",
    "### $\\Longrightarrow$ Locality $\\equiv$ Strong Locality\n",
    "#### Bell's ineq violation by Nature $\\Rightarrow$ evidence against deterministic substratum"
   ]
  },
  {
   "cell_type": "markdown",
   "metadata": {
    "slideshow": {
     "slide_type": "subslide"
    }
   },
   "source": [
    "## Predictive Completeness\n",
    "### $|\\psi\\rangle$ is predictively complete w.r.t measurement M (post-preparation), if results of non-M (pre-preparation) measurements provide no info relevant to predicting result of M\n",
    "\n",
    "### M = spin-component meas on 1st particle\n",
    "### non-M = meas on 2nd particle at spacelike separation "
   ]
  },
  {
   "cell_type": "markdown",
   "metadata": {
    "slideshow": {
     "slide_type": "subslide"
    }
   },
   "source": [
    "### Predictive completeness to hold $\\Rightarrow$\n",
    "#### $$P(x_A,x_B|\\vec{n_A}, \\vec{n_B}, S_A, S_B,\\lambda)=\\sum_{x_B^{'}}P(x_A,x_B^{'}|\\vec{n_A}, \\vec{n_B}, S_A, S_B,\\lambda)\\cdot \\sum_{x_A^{'}}P(x_A^{'},x_B|\\vec{n_A}, \\vec{n_B}, S_A, S_B,\\lambda)$$\n",
    "#### The factoring means absence of predictively relevant info. Each factor MAY depend on BOTH $\\vec{n_A}$ and $\\vec{n_B}$\n",
    "\n",
    "### Strong locality $\\equiv$ simple locality + pred completeness\n",
    "### Bell inequality violation (by QM and experiment) is due to failure of the above formula"
   ]
  },
  {
   "cell_type": "markdown",
   "metadata": {
    "slideshow": {
     "slide_type": "slide"
    }
   },
   "source": [
    "# QM & Reality \n",
    "### 1. <font color='blue'>Reality:</font> $\\exists$ property even when not measured\n",
    "### 2. <font color='blue'>Inference:</font> can apply freely,  draw legit conclusions from obs\n",
    "### 3. <font color='blue'>EPR Locality (predictive completeness)</font>"
   ]
  },
  {
   "cell_type": "markdown",
   "metadata": {
    "slideshow": {
     "slide_type": "subslide"
    }
   },
   "source": [
    "<img src='images/set_th.png' align=\"left\"><img src='images/set_th2.png' width='250'> "
   ]
  },
  {
   "cell_type": "markdown",
   "metadata": {
    "slideshow": {
     "slide_type": "subslide"
    }
   },
   "source": [
    "<img src='images/bell_exp.png' align=\"left\">  \n",
    "#### $A,B,C$ represent spin directions (non-commuting)\n",
    "#### $N(A^{-}B^{+})= $ number of single particles w. properties $A^-, B^+$ \n",
    "#### $N(A^{*}B^{*})$ not possible to measure experimentally . \n",
    "#### $n[A^{*}B^{*}]$ refers to PAIR of particles: can measure and test"
   ]
  },
  {
   "cell_type": "markdown",
   "metadata": {
    "slideshow": {
     "slide_type": "subslide"
    }
   },
   "source": [
    "<img src='images/stern_gerl.png' width='550'>  "
   ]
  },
  {
   "cell_type": "markdown",
   "metadata": {
    "slideshow": {
     "slide_type": "slide"
    }
   },
   "source": [
    "# <center> Kochen-Specker Theorem</center>"
   ]
  },
  {
   "cell_type": "markdown",
   "metadata": {
    "slideshow": {
     "slide_type": "subslide"
    }
   },
   "source": [
    "### QM states imply <font color='blue'>statistical</font> restrictions on the results of measurements \n",
    "### QM would be incomplete in the sense that a typical state description of an <font color='blue'>individual system</font> could be supplemented in terms of HVs\n",
    "### <font color='blue'>Bell's thm:</font> given locality - an HV model can't match stat predictions of QM\n",
    "### <font color='blue'>KS thm:</font> given noncontextuality - an HV model can't match stat predictions of QM\n",
    "#### these new contradictions between QM and HV don't depend on a particular state, therefore are free from <font color='blue'>stat</font> inferences. Only <font color='blue'> operator algebra</font> is needed"
   ]
  },
  {
   "cell_type": "markdown",
   "metadata": {
    "slideshow": {
     "slide_type": "subslide"
    }
   },
   "source": [
    "### <font color='blue'>KS</font>: given a premise of noncontextuality (NC), certain sets of QM observables cannot consistently be assigned values <font color='red'>at all</font> (even before the question of their statistical distributions arises)\n",
    "#### <font color='blue'>NC</font>: If a QM system possesses a property (value of an observable), then it does so independently of any measurement context, i.e. independently of HOW that value is eventually measured.\n",
    "#### <font color='blue'>VD</font>: All observables defined for a QM system have definite values at all times.\n",
    "#### <font color='blue'>O</font>: There is a one-one correspondence between properties of a q system and projection operators on the system’s Hilbert space\n",
    "### KS says $\\exists$ contradiction between VD + NC + O and QM"
   ]
  },
  {
   "cell_type": "markdown",
   "metadata": {
    "slideshow": {
     "slide_type": "subslide"
    }
   },
   "source": [
    "### <center>Statement of the KS Theorem</center>\n",
    "#### Let H be of dimension $x \\geq 3$. $\\exists \\{y_1, \\cdots , y_M \\}$ s.t. (KS1) & (KS2) are contradictory:\n",
    "#### (KS1) All $y_1, \\cdots , y_M$ simultaneously have values, $v(y_1),\\cdots , v(y_M)$  \n",
    "#### (KS2) Values of all observables conform to the following constraints:\n",
    "<center>(a) If $y_i, y_j, y_k$ are all compatible and $y_k = y_i+y_j, \\rightarrow v(y_k) = v(y_i)+v(y_j)$  </center>\n",
    "<center>(b) if $y_i, y_j, y_k$ are all compatible and $y_k = y_i\\cdot y_j, \\rightarrow v(y_k) = v(y_i) \\cdot v(y_j)$</center>"
   ]
  },
  {
   "cell_type": "markdown",
   "metadata": {
    "slideshow": {
     "slide_type": "subslide"
    }
   },
   "source": [
    "### KS is a geometrical statement. It's independent of QM but profoundly affects the interpretation of it\n",
    "### KS (contrary to Bell) doesn't involve stat correlations in ensemble of systems\n",
    "### KS compares the results of various measurements that can be performed on a <font color='blue'>single </font>system \n",
    "#### no need of taking averages over unspecified HVs\n",
    "#### or over fictitious experimental runs (as in CHSH case)"
   ]
  },
  {
   "cell_type": "markdown",
   "metadata": {
    "slideshow": {
     "slide_type": "subslide"
    }
   },
   "source": [
    "### The problem cannot be of pure logic\n",
    "# <center> Empirical premises inderlying KS thm</center>\n",
    "\n",
    "#### 9 premises \n",
    "#### 7 phenomenological, can be tested experimentally, can be derived from QM\n",
    "#### 2 counterfactual: possible to <font color='red'> imagine</font> the reulst of unperformed experiments (such a way that results have  <font color='red'> correlations</font> mimicking experiments)"
   ]
  },
  {
   "cell_type": "markdown",
   "metadata": {
    "slideshow": {
     "slide_type": "subslide"
    }
   },
   "source": [
    "# 1. Elemetary tests\n",
    "### $\\exists$ \"yes-no\" tests: projectors A, B, C, ... with outcomes a, b, c ... =1 (yes), =0 (no)\n",
    "### E.g. $$P_m = I - (\\mathbf{\\vec{m}\\cdot \\vec{J}})^2 \\hspace{1cm}\\longleftarrow 3x3, Tr(P_m)=1 $$\n",
    "### $$P_{\\theta} = \\frac{1}{2}\\left[I + \\sigma_x \\sin(\\theta) + \\sigma_z \\cos(\\theta)\\right]\\hspace{1cm}\\longleftarrow 2x2, Tr(P_{\\theta})=1$$"
   ]
  },
  {
   "cell_type": "markdown",
   "metadata": {
    "slideshow": {
     "slide_type": "subslide"
    }
   },
   "source": [
    "# 2. State preparation\n",
    "### $\\forall$ \"yes-no\" exp, $\\exists$ ways of preparing systems, s.t. outcome is <font color='blue'> predictible</font> with probability 1\n",
    "### predictable with prob=1 iff $$Tr(\\rho P) = 0 \\hspace{0.5cm} or \\hspace{0.5cm} 1$$"
   ]
  },
  {
   "cell_type": "markdown",
   "metadata": {
    "slideshow": {
     "slide_type": "subslide"
    }
   },
   "source": [
    "# 3. Compatibility of \"yes-no\" experiments\n",
    "#### prepare system in a way that result of A is predictable & repeatable \n",
    "#### perform <font color='blue'> compatible </font> B test ([A,B]=0)\n",
    "#### subsequent execution of A shall yield the same result (as if B hasn'd been performed)\n",
    "### two different spin 1/2 $$[1/2(I + \\mathbf{\\vec{m} \\cdot \\vec{\\sigma_1}}), 1/2(I + \\mathbf{\\vec{n} \\cdot \\vec{\\sigma_2}})]=0 \\hspace{1cm}\\longleftarrow \\forall \\mathbf{\\vec{m},\\vec{n}}$$\n",
    "### single spin 1$$[I - (\\mathbf{\\vec{m}\\cdot \\vec{J}})^2, I - (\\mathbf{\\vec{n}\\cdot \\vec{J}})^2]=0 \\hspace{1cm}\\longleftarrow \\forall \\mathbf{\\vec{m}\\cdot \\vec{n}}=0$$"
   ]
  },
  {
   "cell_type": "markdown",
   "metadata": {
    "slideshow": {
     "slide_type": "subslide"
    }
   },
   "source": [
    "# 4. Symmetry and transitivity\n",
    "### Compatibility is a symmetric property but it's not transitive\n",
    "### if $[A,B]=[A,C]=0$ it doesn't follow that $[B,C]=0$\n",
    "#### E.g. $$\\mathbf{\\vec{m}}\\cdot \\mathbf{\\vec{n}}=\\mathbf{\\vec{m}}\\cdot \\mathbf{\\vec{r}}\\neq \\mathbf{\\vec{n}}\\cdot \\mathbf{\\vec{r}}$$\n",
    "### $$A=(\\mathbf{\\vec{m}}\\cdot\\mathbf{\\vec{J}})^2, \\hspace{0.5cm}B=(\\mathbf{\\vec{n}}\\cdot\\mathbf{\\vec{J}})^2, \\hspace{0.5cm} C=(\\mathbf{\\vec{r}}\\cdot\\mathbf{\\vec{J}})^2$$\n",
    "### $$A=\\mathbf{\\vec{m}}\\cdot \\vec{\\sigma_1}, \\hspace{0.5cm} B=\\mathbf{\\vec{n}}\\cdot \\vec{\\sigma_2}, \\hspace{0.5cm}C=\\mathbf{\\vec{r}}\\cdot \\vec{\\sigma_2}$$"
   ]
  },
  {
   "cell_type": "markdown",
   "metadata": {
    "slideshow": {
     "slide_type": "subslide"
    }
   },
   "source": [
    "# 5. Constraints \n",
    "#### When state prep is such that compatible tests have predictable results $\\rightarrow$ results may be constrained\n",
    "#### E.g. $$P_m = \\frac{1}{2}(I + \\mathbf{\\vec{m}}\\cdot\\vec{\\sigma})$$ has predictable outcome $p_m$, then $p_m+p_{-m}=1$ \n",
    "#### E.g. $\\mathbf{\\vec{m}}, \\mathbf{\\vec{n}}, \\mathbf{\\vec{r}}$ are orthogonal triad $$P_m=I-(\\mathbf{\\vec{m}}\\cdot \\vec{J})^2, \\hspace{0.3cm} P_n=I-(\\mathbf{\\vec{n}}\\cdot \\vec{J})^2, \\hspace{0.3cm} P_r=I-(\\mathbf{\\vec{r}}\\cdot \\vec{J})^2$$ then $$P_m+P_n+P_r=I$$\n",
    "#### QM predicts (also experimentally) for <font color='blue'>predictable</font> tests, the outcomes satisfy $p_m+p_n+p_r=1$, one test is positive, others are negative"
   ]
  },
  {
   "cell_type": "markdown",
   "metadata": {
    "slideshow": {
     "slide_type": "subslide"
    }
   },
   "source": [
    "# 6. Further constraints\n",
    "#### Even if outcomes of constrained tests are NOT predictable, there will be proper constraints, if the tests are actually performed. Outcomes aren't completely random (microscopic determinism?)\n",
    "#### For a complete set of orthogonal projectors: $$P_iP_j=P_jP_i=\\delta_{ij}P_i, \\hspace{0.5cm} \\sum P_i =I$$\n",
    "#### then for $p_i=\\pm 1$ $$\\left\\langle \\big(\\sum p_i\\big)^2\\right\\rangle -\\left\\langle \\big(\\sum p_i\\big)\\right\\rangle^2 = \\left\\langle \\big(\\sum P_i\\big)^2\\right\\rangle -\\left\\langle \\big(\\sum P_i\\big)\\right\\rangle^2 \\equiv 0$$ \n",
    "#### so that $\\sum p_i = 1$ "
   ]
  },
  {
   "cell_type": "markdown",
   "metadata": {
    "slideshow": {
     "slide_type": "subslide"
    }
   },
   "source": [
    "# 7. Correlations\n",
    "### If outcomes of compatible tests are<font color='red'> neither predictable nor constrained</font>, there may still be <font color='blue'>statistical correlations</font> between these outcomes\n",
    "### E.g.  $$P_{1\\alpha} = \\frac{1}{2}(I + \\mathbf{\\vec{\\alpha}}\\cdot\\vec{\\sigma_1}) \\hspace{0.5cm} P_{2\\beta} = \\frac{1}{2}(I + \\mathbf{\\vec{\\beta}}\\cdot\\vec{\\sigma_2})$$\n",
    "### $$\\Longrightarrow \\hspace{0.5cm} \\langle p_{1\\alpha}p_{1\\beta} \\rangle = \\frac{1}{2}(1-\\mathbf{\\vec{\\alpha}}\\cdot\\mathbf{\\vec{\\beta}})$$\n",
    "#### which already violates Bell's inequality"
   ]
  },
  {
   "cell_type": "markdown",
   "metadata": {
    "slideshow": {
     "slide_type": "subslide"
    }
   },
   "source": [
    "# <font color='red'>8. Counterfactual realism</font>\n",
    "### a) Possible to <font color='blue'> imagine </font> hypothetical results for any <font color='red'> unperformed</font> test, and to do coalculations where these unknown results are treated as if they were definite nunbers\n",
    "### $\\Updownarrow$ purely intelectual activity\n",
    "### b) Possible to <font color='blue'> imagine </font>  the results of any set of compatible tests, and to treat them in calculations as they had definite values, satisfying the same constraints or correlations that are imposed on the results of real tests\n",
    "(example in next slide)"
   ]
  },
  {
   "cell_type": "markdown",
   "metadata": {
    "slideshow": {
     "slide_type": "subslide"
    }
   },
   "source": [
    "### E.g. 2 orthogonal triads $$\\vec{\\mathbf{m}}\\cdot\\vec{\\mathbf{n}}=\\vec{\\mathbf{m}}\\cdot\\vec{\\mathbf{r}}=\\vec{\\mathbf{n}}\\cdot\\vec{\\mathbf{r}}=0, \\hspace{0.5cm} \\vec{\\mathbf{m}}\\cdot\\vec{\\mathbf{s}}=\\vec{\\mathbf{m}}\\cdot\\vec{\\mathbf{t}}=\\vec{\\mathbf{s}}\\cdot\\vec{\\mathbf{t}}=0, \\hspace{0.5cm} \\vec{\\mathbf{n}}\\cdot\\vec{\\mathbf{s}} \\neq 0$$\n",
    "### can imagine $P_m = I - (\\vec{\\mathbf{m}}\\cdot\\vec{\\mathbf{J}})^2$ is measures either with $P_n, P_r$ or $P_s, P_t$\n",
    "### then results must obey \n",
    "## <center><font color='red'>$p_m$</font>$+p_n+p_r=1, \\hspace{0.5cm} $ <font color='red'>$p_m$</font>$+p_s+p_t=1$</center> \n",
    "### experimentally can be realized only one at a time. Are the <font color='red'>$p_m$</font>'s the same? Can't be tested experimentally (mutually exclusive setups)  $\\Longrightarrow$ need one more postulate"
   ]
  },
  {
   "cell_type": "markdown",
   "metadata": {
    "slideshow": {
     "slide_type": "subslide"
    }
   },
   "source": [
    "# <font color='red'>9. Counterfactual compatibility</font>\n",
    "#### <font color='blue'>No-contextuality hypothesis </font>\n",
    "### The hypothetical result of an unperformed test doesn't depend on the choice of compatible tests tha may be perfomeed together woth it\n"
   ]
  },
  {
   "cell_type": "markdown",
   "metadata": {
    "slideshow": {
     "slide_type": "subslide"
    }
   },
   "source": [
    "### <center> Geometrical Proof of KS Thm [Peres, JPhys, A 24, L175 (1991)]</center>\n",
    "\n",
    "##### 33 vectors (rays), invariant under interchange of x,y,z and reversal of each axis, 16 bases (triads)   \n",
    "#### for each triad can associate value 1 (<font color='green'>GREEN</font>) to one of rays, and 0 (<font color='red'>RED</font>) to other two\n",
    "\n",
    "<img src='images/KS.png' width=280 align=\"left\">  \n",
    "\n",
    "\n",
    "| Orthogonal Triad | Other Rays |1st green because of|\n",
    "|---| -- | - |\n",
    "| <font color='green'>$\\mathbf{001}\\hspace{0.2cm}$   <font color='orange'>  $100 \\hspace{0.4cm}$ </font> <font color='red'> $010$ </font>        | <font color='red'>$110 \\hspace{0.2cm} 1\\bar{1}0$</font> | choice of z axis |\n",
    "| <font color='green'>$\\mathbf{101}\\hspace{0.2cm}$ <font color='red'>       $\\bar{1}01 \\hspace{0.4cm}      \\textit{010}$       </font>      | $\\cdots\\hspace{0.2cm}\\cdots$ | choice of x vs -x |\n",
    "| <font color='green'>$\\mathbf{011}\\hspace{0.2cm}$ <font color='red'>       $0\\bar{1}1 \\hspace{0.2cm} \\textit{100}$</font>              | $\\cdots\\hspace{0.2cm}\\cdots$ | choice of y vs -y |\n",
    "| <font color='green'>$\\mathbf{1\\bar{1}2}\\hspace{0.2cm}$ <font color='red'> $\\bar{1}12 \\hspace{0.2cm} \\textit{110}$</font>              | <font color='red'>$201 \\hspace{0.2cm}$</font> <font color='orange'>$021$</font> | choice of x vs y |\n",
    "| <font color='green'>$\\mathbf{102}\\hspace{0.2cm}$ <font color='red'> $\\bar{\\textit{2}}\\textit{01} \\hspace{0.2cm} \\textit{010}$</font>              | <font color='red'>$\\bar{2}11 \\hspace{0.2cm} \\cdots$</font> | ortho to 2nd and 3rd|\n",
    "| <font color='green'>$\\mathbf{211}\\hspace{0.2cm}$ <font color='red'> $\\textit{0}\\bar{\\textit{1}}\\textit{1} \\hspace{0.2cm} \\bar{\\textit{2}}\\textit{11}$</font>  | <font color='red'>$\\bar{1}02 \\hspace{0.2cm} \\cdots$</font> | ortho to 2nd and 3rd|\n",
    "| <font color='green'>$\\mathbf{201}\\hspace{0.2cm}$ <font color='red'>$\\textit{010} \\hspace{0.2cm} \\bar{\\textit{1}} \\textit{02}$</font>                             | <font color='red'>$\\bar{1}\\bar{1}2 \\hspace{0.2cm} \\cdots$ </font> |ortho to 2nd and 3rd|\n",
    "| <font color='green'>$\\mathbf{112}\\hspace{0.2cm}$ <font color='red'> $\\textit{1}\\bar{\\textit{1}}\\textit{0} \\hspace{0.2cm} \\bar{\\textit{1}} \\bar{\\textit{1}}\\textit{2}$ </font>    | <font color='red'>$0\\bar{2}1 \\hspace{0.2cm} \\cdots$ </font> |  ortho to 2nd and 3rd|\n",
    "| <font color='green'>$\\mathbf{012}\\hspace{0.2cm}$ <font color='red'>$\\textit{100} \\hspace{0.2cm}  \\textit{0}\\bar{\\textit{2}}\\textit{1}$</font>                                           | <font color='red'>$1\\bar{2}1 \\hspace{0.2cm} \\cdots$</font> |  ortho to 2nd and 3rd|\n",
    "| <font color='green'>$\\mathbf{121}\\hspace{0.2cm}$ <font color='red'>$\\bar{\\textit{1}}\\textit{01} \\hspace{0.2cm} \\textit{1}\\bar{\\textit{2}}\\textit{1} $</font>        | <font color='orange'>$0\\bar{1}2 \\hspace{0.2cm} \\cdots$</font> |  ortho to 2nd and 3rd|\n",
    "    \n",
    "    "
   ]
  },
  {
   "cell_type": "markdown",
   "metadata": {
    "slideshow": {
     "slide_type": "subslide"
    }
   },
   "source": [
    "# <center>Summary of KS</center>\n",
    "#### Although 9. cannot be tested directly, some of its logical consequences can be shown to conflict with QM and experiment\n",
    "### E.g. $$p_{1\\gamma}+p_{2\\beta}+p_{1\\alpha}p_{2\\delta}-p_{1\\alpha}p_{2\\beta}-p_{1\\gamma}p_{2\\beta}-p_{1\\gamma}p_{2\\delta}=0 \\hspace{0.5cm} or \\hspace{0.5cm} 1$$\n",
    "#### $\\Longrightarrow$ average of LHS ought to be in range [0,1]\n",
    "<img src='images/angles.png' width=200 align=\"right\">\n",
    "#### for singlet state $ \\hspace{0.3cm} \\frac{1}{2}+\\frac{1}{2}+\\frac{1}{4}\\big(1+\\frac{1}{\\sqrt(2)}\\big)-\\frac{3}{4}\\big(1-\\frac{1}{\\sqrt(2)}\\big)=\\frac{1}{2}+\\frac{1}{\\sqrt(2)} > 1$ "
   ]
  },
  {
   "cell_type": "markdown",
   "metadata": {
    "slideshow": {
     "slide_type": "subslide"
    }
   },
   "source": [
    "### Rationale of contextuality: A test <font color='blue'> Is $\\vec{\\alpha}\\cdot\\vec{\\sigma_1}=1?$ or Is $\\vec{m}\\cdot\\vec{J}=0?$</font> has a well defined answer only if state prep satisfies $Tr(\\rho P)=0 \\hspace{0.2cm} or\\hspace{0.2cm} 1$, so that the required answer is <font color='red'> predictable</font>\n",
    "### For any other state prep, these questions, <font color='red'> which are represented by degenerate operators </font>, are ambiguous. The answer depends on which other (compatible) tests are performed \n",
    "### The same operator may correspond to different observables. The symbol $P_m$ has different meaning if measured alone or with $P_n$ or $P_r$"
   ]
  }
 ],
 "metadata": {
  "celltoolbar": "Slideshow",
  "kernelspec": {
   "display_name": "Python 3",
   "language": "python",
   "name": "python3"
  },
  "language_info": {
   "codemirror_mode": {
    "name": "ipython",
    "version": 3
   },
   "file_extension": ".py",
   "mimetype": "text/x-python",
   "name": "python",
   "nbconvert_exporter": "python",
   "pygments_lexer": "ipython3",
   "version": "3.6.4"
  }
 },
 "nbformat": 4,
 "nbformat_minor": 2
}
