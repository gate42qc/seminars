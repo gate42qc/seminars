{
 "cells": [
  {
   "cell_type": "markdown",
   "metadata": {
    "colab_type": "text",
    "id": "KqUWVt0IQUQc"
   },
   "source": [
    "## Linear Representations\n",
    "\n",
    "1. Homomorphism $\\alpha: G \\rightarrow GL(n,k)$ where n is the dimension of a vector spave over field $k$. That is $n \\times n $ matrices.\n",
    "2. A group action $G \\times X \\rightarrow X:(g,x) \\mapsto x$ where \n",
    " >1. $X$ is vector space and \n",
    " >2. $(gh)x) = g(hx)$\n",
    " >3. $ex=x$\n",
    " >4. $g(u + v) = gu + gv$\n",
    " >5. $g(ρv) = ρ(gv)$\n",
    "\n",
    "---\n",
    "A group action on finite set of size is a subgroup of permutations, they may be represented as special matrices of size n \n",
    "\n",
    "for example:  $\\begin{pmatrix}\n",
    "1 & 2 & 3\\\\ \n",
    "2 & 1 & 3\n",
    "\\end{pmatrix} \\Leftrightarrow  \n",
    "\\begin{pmatrix}\n",
    "0 & 1 & 0\\\\ \n",
    "1 & 0 & 0\\\\ \n",
    "0 & 0 & 1\n",
    "\\end{pmatrix}$\n",
    "\n",
    "---\n",
    "\n",
    "A 1-dimensional representation is simply a homomorphism to multiplicative group of the field.\n",
    "\n",
    "$g \\mapsto 1$ is the trivial representation.\n",
    "\n",
    "a 1-dimensional representation is constant on each conjugacy class \n",
    "\n",
    "for $S_n$: \n",
    "\n",
    "$g \\mapsto \\left \n",
    "\\{\\begin{matrix}\n",
    "1 & if \\ g \\ is \\ even \\\\ \n",
    "-1 & if \\ g \\ is \\ odd\n",
    "\\end{matrix}\\right.$\n",
    "\n",
    "for $D_4$:  \n",
    "$r^4=1, c^2=1, (rc)^2=1 \\Rightarrow c=\\pm1,r=\\pm1$  \n",
    "there are 4 1-dimensional representations\n",
    "\n",
    "&nbsp;\n",
    "\n",
    "2-dimensional representations of $S_3$: $\\langle s, t \\vert s^3,t^2, st=ts^2  \\rangle$ over $\\mathbb{C}$  \n",
    "suppose $s$ has a eigenvector $v_1$ with eigenvalue $\\lambda \\ne 1, \\ \\lambda^3=1, \\ \\lambda = \\exp(i2\\pi/3)$  \n",
    "$s(tv_1) = ts^2v_1=\\lambda^2(tv_1) \\Rightarrow s \\mapsto \\begin{pmatrix}\n",
    "\\lambda & 0 \\\\ \n",
    "0 & \\lambda^2\n",
    "\\end{pmatrix}$ and the next eigenvector is $v_2==tv_1$  \n",
    "on the other hand $tv_1=v_2, tv_2=v_1 \\Rightarrow s \\mapsto \\begin{pmatrix}\n",
    "0 & 1 \\\\ \n",
    "1 & 0\n",
    "\\end{pmatrix}$\n",
    "\n",
    "the other case is $s \\mapsto \\begin{pmatrix} 1 & 0 \\\\ 0 & 1 \\end{pmatrix}$, then t will be free: $s \\mapsto \\begin{pmatrix} \\lambda & 0 \\\\ 0 & \\mu \\end{pmatrix}$, $\\lambda,\\mu=\\pm1$\n",
    "\n",
    "&nbsp;\n",
    "\n",
    "The representation $\\alpha$ of $G$ in the vector space $V$ over $k$ is said to\n",
    "be **simple (irreducible)** if no proper subspace of $V$ is stable under $G$.\n",
    "\n",
    "$dim \\ \\alpha \\le \\vert G \\vert$\n",
    "\n",
    "A simple representation of a finite abelian group over $\\mathbb{C}$ is necessarily 1-dimensional.\n",
    "\n",
    "**Arithmetic of Representations**\n",
    "\n",
    "$\\alpha:g \\mapsto A(g), \\  \\beta:g \\mapsto B(g), \\ \\alpha+\\beta: g \\mapsto \\begin{pmatrix} A(g) & 0 \\\\ 0 & B(g)\\end{pmatrix}$. The representation space is  $V \\oplus W$\n",
    "\n",
    "$\\alpha:g \\mapsto A(g), \\  \\beta:g \\mapsto B(g), \\ \\alpha\\beta: g \\mapsto A(g) \\otimes B(g)$. . The representation space is  $V \\otimes W$\n",
    "\n",
    "> $\\alpha+\\beta=\\beta+ \\alpha$  \n",
    "> $\\alpha+(\\beta+\\gamma)=(\\alpha+\\beta)+ \\gamma$  \n",
    "> $\\alpha\\beta=\\beta \\alpha$  \n",
    "> $\\alpha(\\beta\\gamma)=(\\alpha\\beta) \\gamma$  \n",
    "> $\\alpha(\\beta+\\gamma)=\\alpha\\beta+ \\alpha\\gamma$  \n",
    "\n",
    "Conjugacy: if $\\alpha$ is the representation of $G$ in $V$, $\\alpha^*$ is the representation of $G$ in dual space $V^*$  \n",
    "$\\alpha:g \\mapsto A(g), \\ \\alpha^* \\mapsto (A(g)^{-1})^\\prime$\n",
    "\n",
    "> $(\\alpha^*)^*=\\alpha$  \n",
    "> $(\\alpha+\\gamma)^*=\\alpha^*+\\beta^*$  \n",
    "> $(\\alpha\\beta)^*=\\alpha^*\\beta^*$  \n",
    "\n",
    "&nbsp;\n",
    "\n",
    "The represenation is said to be **semisimple** if it is expressible as a sum of simple representations:\n",
    "$\\alpha = \\sigma_1+\\sigma_2+ ... + \\sigma_r$ .\n",
    "Equivalently each stable subspace $U \\subset V$ has at least one complementary stable subspace $W$, ie $V=U \\oplus W$.\n",
    "\n",
    "---\n",
    "\n",
    "Let $Q$ be a positive (hermitian) form in $\\mathbb{R}^n$ ($\\mathbb{C}^n$). Avaraging it over group: \n",
    "$P(u,v) =\\frac{1}{\\vert G\\vert} \\sum_ {g \\in G} Q(u,v)$\n",
    "\n",
    "$P(u,v)=0 \\Rightarrow u \\perp v \\ for \\ all \\ g \\in G$\n",
    "\n",
    "---\n",
    "\n",
    "**Maschke’s Theorem**: Suppose α is a representation of the finite\n",
    "group $G$ over $k$ ($\\vert G \\vert \\ne 0 \\ in \\ k$). Then α is semisimple.\n",
    "\n",
    "The expression for a semisimple representation $\\alpha$ as a sum of simple parts $\\alpha = \\sigma_1+\\sigma_2+ ... + \\sigma_r$ is unique up to order.\n",
    "\n",
    "The character $\\chi_\\alpha:G \\rightarrow k$ is defined as $\\chi(g)=tr(\\alpha(g))$\n",
    "> $\\chi_{\\alpha+\\beta}(g)=\\chi_\\alpha(g)+\\chi_\\beta(g)$  \n",
    "> $\\chi_{\\alpha\\beta}(g)=\\chi_\\alpha(g)\\chi_\\beta(g)$  \n",
    "> $\\chi_{\\alpha^*}(g)=\\chi_{\\alpha}(g^{-1})$  \n",
    "> $\\chi_{1}(g)=1$  \n",
    "> $\\chi_\\alpha(e)=dim \\alpha$  \n",
    "\n",
    "Two representations are equivalent if and only if their characters are equal:\n",
    "> $\\alpha = \\beta \\Leftrightarrow \\chi_\\alpha(g)=\\chi_\\beta(g) \\ for \\ all \\ g\\in G$\n",
    "\n",
    "\n",
    "\n",
    "\n",
    "\n",
    "\n",
    "\n",
    "\n",
    "\n",
    "\n",
    "\n",
    "\n",
    "\n"
   ]
  },
  {
   "cell_type": "markdown",
   "metadata": {
    "colab_type": "text",
    "id": "2kTGv-kKway0"
   },
   "source": [
    "## Pauli matrices\n",
    "\n",
    "\n",
    "\n",
    "http://home.lu.lv/~sd20008/papers/essays/Clifford%20group%20[paper].pdf\n",
    "\n",
    "https://arxiv.org/pdf/1609.08188.pdf\n"
   ]
  },
  {
   "cell_type": "markdown",
   "metadata": {
    "colab_type": "text",
    "id": "Y-wdbbJTQVD8"
   },
   "source": [
    "## Lie group\n",
    "\n",
    "\n"
   ]
  },
  {
   "cell_type": "markdown",
   "metadata": {
    "colab_type": "text",
    "id": "VVe8l1zVuig7"
   },
   "source": [
    "## Clifford group\n"
   ]
  },
  {
   "cell_type": "markdown",
   "metadata": {
    "colab_type": "text",
    "id": "qKnYlkC85wYe"
   },
   "source": [
    "## Links\n",
    "\n",
    "[breif intro to Representations of finite groups](https://www.maths.tcd.ie/pub/Maths/Courseware/GroupRepresentations/FiniteGroups.pdf)\n",
    "\n",
    "\n",
    "\n",
    "\n",
    "\n",
    "\n",
    "$\n",
    "\\setlength{\\unitlength}{1cm}\n",
    "\\thicklines\n",
    "\\begin{picture}(10,6)\n",
    "\\put(2,2.2){\\line(1,0){6}}\n",
    "\\put(2,2.2){\\circle{2}}\n",
    "\\put(6,2.2){\\oval(4,2)[r]}\n",
    "\\end{picture}\n",
    "$\n",
    "\n"
   ]
  },
  {
   "cell_type": "markdown",
   "metadata": {
    "colab_type": "text",
    "id": "bvfvSdff8Jqw"
   },
   "source": [
    "## To Look\n",
    "\n",
    "Symplectic group\n",
    "\n",
    "Orbit-stabilizer theorem and Burnside's lemma\n",
    "\n",
    "homomorphism theorems\n",
    "\n",
    "\n"
   ]
  },
  {
   "cell_type": "code",
   "execution_count": 0,
   "metadata": {
    "colab": {
     "autoexec": {
      "startup": false,
      "wait_interval": 0
     },
     "base_uri": "https://localhost:8080/",
     "height": 171
    },
    "colab_type": "code",
    "executionInfo": {
     "elapsed": 421,
     "status": "ok",
     "timestamp": 1530947794938,
     "user": {
      "displayName": "Nshan Barseghyan",
      "photoUrl": "https://lh3.googleusercontent.com/a/default-user=s128",
      "userId": "101804390887968984856"
     },
     "user_tz": -240
    },
    "id": "vzjzr0pre8Cq",
    "outputId": "699362a9-8ae4-4e1f-c938-5598a7fe8beb"
   },
   "outputs": [
    {
     "data": {
      "image/svg+xml": [
       "<SVG></SVG>"
      ],
      "text/plain": [
       "<IPython.core.display.SVG object>"
      ]
     },
     "metadata": {
      "tags": []
     },
     "output_type": "display_data"
    }
   ],
   "source": [
    "%%SVG\n",
    "<SVG>\n",
    "</SVG>\n"
   ]
  },
  {
   "cell_type": "code",
   "execution_count": 0,
   "metadata": {
    "colab": {
     "autoexec": {
      "startup": false,
      "wait_interval": 0
     },
     "base_uri": "https://localhost:8080/",
     "height": 34
    },
    "colab_type": "code",
    "executionInfo": {
     "elapsed": 1679,
     "status": "ok",
     "timestamp": 1530982288332,
     "user": {
      "displayName": "Nshan Barseghyan",
      "photoUrl": "https://lh3.googleusercontent.com/a/default-user=s128",
      "userId": "101804390887968984856"
     },
     "user_tz": -240
    },
    "id": "w8jkLd9cp0Ld",
    "outputId": "e21ce5b9-a53d-4c44-ccce-1274d0aee24b"
   },
   "outputs": [
    {
     "name": "stdout",
     "output_type": "stream",
     "text": [
      "datalab\r\n"
     ]
    }
   ],
   "source": [
    "!ls ."
   ]
  },
  {
   "cell_type": "code",
   "execution_count": 0,
   "metadata": {
    "colab": {
     "autoexec": {
      "startup": false,
      "wait_interval": 0
     },
     "base_uri": "https://localhost:8080/",
     "height": 156
    },
    "colab_type": "code",
    "executionInfo": {
     "elapsed": 843,
     "status": "ok",
     "timestamp": 1530945360743,
     "user": {
      "displayName": "Nshan Barseghyan",
      "photoUrl": "https://lh3.googleusercontent.com/a/default-user=s128",
      "userId": "101804390887968984856"
     },
     "user_tz": -240
    },
    "id": "V0-FemrthDZ5",
    "outputId": "edbd2ee6-3b9b-4b3c-b261-a16a53c71ca2"
   },
   "outputs": [
    {
     "data": {
      "application/json": {
       "cell": {
        "!": "OSMagics",
        "HTML": "Other",
        "SVG": "Other",
        "bash": "Other",
        "bigquery": "Other",
        "capture": "ExecutionMagics",
        "debug": "ExecutionMagics",
        "file": "Other",
        "html": "DisplayMagics",
        "javascript": "DisplayMagics",
        "js": "DisplayMagics",
        "latex": "DisplayMagics",
        "perl": "Other",
        "prun": "ExecutionMagics",
        "pypy": "Other",
        "python": "Other",
        "python2": "Other",
        "python3": "Other",
        "ruby": "Other",
        "script": "ScriptMagics",
        "sh": "Other",
        "svg": "DisplayMagics",
        "sx": "OSMagics",
        "system": "OSMagics",
        "time": "ExecutionMagics",
        "timeit": "ExecutionMagics",
        "writefile": "OSMagics"
       },
       "line": {
        "alias": "OSMagics",
        "alias_magic": "BasicMagics",
        "autocall": "AutoMagics",
        "automagic": "AutoMagics",
        "autosave": "KernelMagics",
        "bookmark": "OSMagics",
        "cat": "Other",
        "cd": "OSMagics",
        "clear": "KernelMagics",
        "colors": "BasicMagics",
        "config": "ConfigMagics",
        "connect_info": "KernelMagics",
        "cp": "Other",
        "debug": "ExecutionMagics",
        "dhist": "OSMagics",
        "dirs": "OSMagics",
        "doctest_mode": "BasicMagics",
        "ed": "Other",
        "edit": "KernelMagics",
        "env": "OSMagics",
        "gui": "BasicMagics",
        "hist": "Other",
        "history": "HistoryMagics",
        "killbgscripts": "ScriptMagics",
        "ldir": "Other",
        "less": "KernelMagics",
        "lf": "Other",
        "lk": "Other",
        "ll": "Other",
        "load": "CodeMagics",
        "load_ext": "ExtensionMagics",
        "loadpy": "CodeMagics",
        "logoff": "LoggingMagics",
        "logon": "LoggingMagics",
        "logstart": "LoggingMagics",
        "logstate": "LoggingMagics",
        "logstop": "LoggingMagics",
        "ls": "Other",
        "lsmagic": "BasicMagics",
        "lx": "Other",
        "macro": "ExecutionMagics",
        "magic": "BasicMagics",
        "man": "KernelMagics",
        "matplotlib": "PylabMagics",
        "mkdir": "Other",
        "more": "KernelMagics",
        "mv": "Other",
        "notebook": "BasicMagics",
        "page": "BasicMagics",
        "pastebin": "CodeMagics",
        "pdb": "ExecutionMagics",
        "pdef": "NamespaceMagics",
        "pdoc": "NamespaceMagics",
        "pfile": "NamespaceMagics",
        "pinfo": "NamespaceMagics",
        "pinfo2": "NamespaceMagics",
        "popd": "OSMagics",
        "pprint": "BasicMagics",
        "precision": "BasicMagics",
        "profile": "BasicMagics",
        "prun": "ExecutionMagics",
        "psearch": "NamespaceMagics",
        "psource": "NamespaceMagics",
        "pushd": "OSMagics",
        "pwd": "OSMagics",
        "pycat": "OSMagics",
        "pylab": "PylabMagics",
        "qtconsole": "KernelMagics",
        "quickref": "BasicMagics",
        "recall": "HistoryMagics",
        "rehashx": "OSMagics",
        "reload_ext": "ExtensionMagics",
        "rep": "Other",
        "rerun": "HistoryMagics",
        "reset": "NamespaceMagics",
        "reset_selective": "NamespaceMagics",
        "rm": "Other",
        "rmdir": "Other",
        "run": "ExecutionMagics",
        "save": "CodeMagics",
        "sc": "OSMagics",
        "set_env": "OSMagics",
        "store": "StoreMagics",
        "sx": "OSMagics",
        "system": "OSMagics",
        "tb": "ExecutionMagics",
        "time": "ExecutionMagics",
        "timeit": "ExecutionMagics",
        "unalias": "OSMagics",
        "unload_ext": "ExtensionMagics",
        "who": "NamespaceMagics",
        "who_ls": "NamespaceMagics",
        "whos": "NamespaceMagics",
        "xdel": "NamespaceMagics",
        "xmode": "BasicMagics"
       }
      },
      "text/plain": [
       "Available line magics:\n",
       "%alias  %alias_magic  %autocall  %automagic  %autosave  %bookmark  %cat  %cd  %clear  %colors  %config  %connect_info  %cp  %debug  %dhist  %dirs  %doctest_mode  %ed  %edit  %env  %gui  %hist  %history  %killbgscripts  %ldir  %less  %lf  %lk  %ll  %load  %load_ext  %loadpy  %logoff  %logon  %logstart  %logstate  %logstop  %ls  %lsmagic  %lx  %macro  %magic  %man  %matplotlib  %mkdir  %more  %mv  %notebook  %page  %pastebin  %pdb  %pdef  %pdoc  %pfile  %pinfo  %pinfo2  %popd  %pprint  %precision  %profile  %prun  %psearch  %psource  %pushd  %pwd  %pycat  %pylab  %qtconsole  %quickref  %recall  %rehashx  %reload_ext  %rep  %rerun  %reset  %reset_selective  %rm  %rmdir  %run  %save  %sc  %set_env  %store  %sx  %system  %tb  %time  %timeit  %unalias  %unload_ext  %who  %who_ls  %whos  %xdel  %xmode\n",
       "\n",
       "Available cell magics:\n",
       "%%!  %%HTML  %%SVG  %%bash  %%bigquery  %%capture  %%debug  %%file  %%html  %%javascript  %%js  %%latex  %%perl  %%prun  %%pypy  %%python  %%python2  %%python3  %%ruby  %%script  %%sh  %%svg  %%sx  %%system  %%time  %%timeit  %%writefile\n",
       "\n",
       "Automagic is ON, % prefix IS NOT needed for line magics."
      ]
     },
     "execution_count": 1,
     "metadata": {
      "tags": []
     },
     "output_type": "execute_result"
    }
   ],
   "source": [
    "%lsmagic"
   ]
  },
  {
   "cell_type": "code",
   "execution_count": 0,
   "metadata": {
    "colab": {
     "autoexec": {
      "startup": false,
      "wait_interval": 0
     }
    },
    "colab_type": "code",
    "id": "EEaBNg6YXTur"
   },
   "outputs": [],
   "source": []
  },
  {
   "cell_type": "code",
   "execution_count": 0,
   "metadata": {
    "colab": {
     "autoexec": {
      "startup": false,
      "wait_interval": 0
     },
     "base_uri": "https://localhost:8080/",
     "height": 34
    },
    "colab_type": "code",
    "executionInfo": {
     "elapsed": 817,
     "status": "ok",
     "timestamp": 1531229055648,
     "user": {
      "displayName": "Nshan Barseghyan",
      "photoUrl": "https://lh3.googleusercontent.com/a/default-user=s128",
      "userId": "101804390887968984856"
     },
     "user_tz": -240
    },
    "id": "YOfsQ8Q5V4MD",
    "outputId": "1ee5ff9f-1fa8-4463-f985-cf151df4335c"
   },
   "outputs": [
    {
     "data": {
      "text/latex": [
       "$\\int e^{x} \\cos{\\left (x \\right )}\\, dx$"
      ],
      "text/plain": [
       "<IPython.core.display.Latex object>"
      ]
     },
     "metadata": {
      "tags": []
     },
     "output_type": "display_data"
    }
   ],
   "source": [
    "%%latex\n",
    "$\\int e^{x} \\cos{\\left (x \\right )}\\, dx$"
   ]
  },
  {
   "cell_type": "code",
   "execution_count": 0,
   "metadata": {
    "colab": {
     "autoexec": {
      "startup": false,
      "wait_interval": 0
     }
    },
    "colab_type": "code",
    "id": "l8cc2Jt6YmnC"
   },
   "outputs": [],
   "source": []
  }
 ],
 "metadata": {
  "colab": {
   "collapsed_sections": [],
   "default_view": {},
   "name": "IntroToGroups2.ipynb",
   "provenance": [
    {
     "file_id": "1Ma7r-JidwKhND7teEvgN4jIY_OXtSWbL",
     "timestamp": 1533036368454
    }
   ],
   "version": "0.3.2",
   "views": {}
  },
  "kernelspec": {
   "display_name": "Python 3",
   "language": "python",
   "name": "python3"
  },
  "language_info": {
   "codemirror_mode": {
    "name": "ipython",
    "version": 3
   },
   "file_extension": ".py",
   "mimetype": "text/x-python",
   "name": "python",
   "nbconvert_exporter": "python",
   "pygments_lexer": "ipython3",
   "version": "3.6.6"
  }
 },
 "nbformat": 4,
 "nbformat_minor": 1
}
