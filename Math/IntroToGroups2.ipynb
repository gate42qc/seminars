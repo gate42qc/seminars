{
 "cells": [
  {
   "cell_type": "markdown",
   "metadata": {
    "colab_type": "text",
    "id": "KqUWVt0IQUQc"
   },
   "source": [
    "## Linear Representations\n",
    "\n",
    "1. Homomorphism $\\alpha: G \\rightarrow GL(n,k)$ where n is the dimension of a vector space over field $k$. That is $n \\times n $ matrices.\n",
    "2. A group action $G \\times X \\rightarrow X:(g,x) \\mapsto x$ where \n",
    " >1. $X$ is vector space and \n",
    " >2. $(gh)x) = g(hx)$\n",
    " >3. $ex=x$\n",
    " >4. $g(u + v) = gu + gv$\n",
    " >5. $g(ρv) = ρ(gv)$\n",
    "\n",
    "---\n",
    "A group action on a set of finite size is a subgroup of permutations, they may be represented as special matrices of size n \n",
    "\n",
    "for example:  $\\begin{pmatrix}\n",
    "1 & 2 & 3\\\\ \n",
    "2 & 1 & 3\n",
    "\\end{pmatrix} \\Leftrightarrow  \n",
    "\\begin{pmatrix}\n",
    "0 & 1 & 0\\\\ \n",
    "1 & 0 & 0\\\\ \n",
    "0 & 0 & 1\n",
    "\\end{pmatrix}$\n",
    "\n",
    "---\n",
    "\n",
    "A 1-dimensional representation is simply a homomorphism to multiplicative group of the field.\n",
    "\n",
    "$g \\mapsto 1$ is the trivial representation.\n",
    "\n",
    "a 1-dimensional representation is constant on each conjugacy class \n",
    "\n",
    "for $S_n$: \n",
    "\n",
    "$g \\mapsto \\left \n",
    "\\{\\begin{matrix}\n",
    "1 & if \\ g \\ is \\ even \\\\ \n",
    "-1 & if \\ g \\ is \\ odd\n",
    "\\end{matrix}\\right.$\n",
    "\n",
    "for $D_4$:  \n",
    "$r^4=1, c^2=1, (rc)^2=1 \\Rightarrow c=\\pm1,r=\\pm1$  \n",
    "there are 4 1-dimensional representations\n",
    "\n",
    "&nbsp;\n",
    "\n",
    "2-dimensional representations of $S_3$: $\\langle s, t \\vert s^3,t^2, st=ts^2  \\rangle$ over $\\mathbb{C}$  \n",
    "suppose $s$ has a eigenvector $v_1$ with eigenvalue $\\lambda \\ne 1, \\ \\lambda^3=1, \\ \\lambda = \\exp(i2\\pi/3)$  \n",
    "$s(tv_1) = ts^2v_1=\\lambda^2(tv_1) \\Rightarrow s \\mapsto \\begin{pmatrix}\n",
    "\\lambda & 0 \\\\ \n",
    "0 & \\lambda^2\n",
    "\\end{pmatrix}$ and the next eigenvector is $v_2==tv_1$  \n",
    "on the other hand $tv_1=v_2, tv_2=v_1 \\Rightarrow t \\mapsto \\begin{pmatrix}\n",
    "0 & 1 \\\\ \n",
    "1 & 0\n",
    "\\end{pmatrix}$\n",
    "\n",
    "the other case is $s \\mapsto \\begin{pmatrix} 1 & 0 \\\\ 0 & 1 \\end{pmatrix}$, then t will be free: $t \\mapsto \\begin{pmatrix} \\lambda & 0 \\\\ 0 & \\mu \\end{pmatrix}$, $\\lambda,\\mu=\\pm1$\n",
    "\n",
    "&nbsp;\n",
    "\n",
    "The representation $\\alpha$ of $G$ in the vector space $V$ over $k$ is said to\n",
    "be **simple (irreducible)** if no proper subspace of $V$ is stable under $G$.\n",
    "\n",
    "$dim \\ \\alpha \\le \\vert G \\vert$\n",
    "\n",
    "A simple representation of a finite abelian group over $\\mathbb{C}$ is necessarily 1-dimensional. (commutative matrices can be diagonalised simultaneously)\n"
   ]
  },
  {
   "cell_type": "markdown",
   "metadata": {},
   "source": [
    "**Arithmetic of Representations**\n",
    "\n",
    "$\\alpha:g \\mapsto A(g), \\  \\beta:g \\mapsto B(g), \\ \\alpha+\\beta: g \\mapsto \\begin{pmatrix} A(g) & 0 \\\\ 0 & B(g)\\end{pmatrix}$. The representation space is  $V \\oplus W$\n",
    "\n",
    "$\\alpha:g \\mapsto A(g), \\  \\beta:g \\mapsto B(g), \\ \\alpha\\beta: g \\mapsto A(g) \\otimes B(g)$. . The representation space is  $V \\otimes W$\n",
    "\n",
    "> $\\alpha+\\beta=\\beta+ \\alpha$  \n",
    "> $\\alpha+(\\beta+\\gamma)=(\\alpha+\\beta)+ \\gamma$  \n",
    "> $\\alpha\\beta=\\beta \\alpha$  \n",
    "> $\\alpha(\\beta\\gamma)=(\\alpha\\beta) \\gamma$  \n",
    "> $\\alpha(\\beta+\\gamma)=\\alpha\\beta+ \\alpha\\gamma$  \n",
    "\n",
    "Conjugacy: if $\\alpha$ is the representation of $G$ in $V$, $\\alpha^*$ is the representation of $G$ in dual space $V^*$  \n",
    "$\\alpha:g \\mapsto A(g), \\ \\alpha^* \\mapsto (A(g)^{-1})^\\prime$\n",
    "\n",
    "> $(\\alpha^*)^*=\\alpha$  \n",
    "> $(\\alpha+\\gamma)^*=\\alpha^*+\\beta^*$  \n",
    "> $(\\alpha\\beta)^*=\\alpha^*\\beta^*$  \n",
    "\n",
    "&nbsp;\n",
    "\n",
    "The represenation is said to be **semisimple** if it is expressible as a sum of simple representations:\n",
    "$\\alpha = \\sigma_1+\\sigma_2+ ... + \\sigma_r$ .\n",
    "Equivalently each stable subspace $U \\subset V$ has at least one complementary stable subspace $W$, ie $V=U \\oplus W$.\n",
    "\n",
    "---\n",
    "\n",
    "Let $Q$ be a positive (hermitian) form in $\\mathbb{R}^n$ ($\\mathbb{C}^n$). Avaraging it over group: \n",
    "$P(u,v) =\\frac{1}{\\vert G\\vert} \\sum_ {g \\in G} Q(gu,gv)$\n",
    "\n",
    "$P(u,v)=0 \\Rightarrow gu \\perp gv \\ for \\ all \\ g \\in G$ and $u \\in U \\Rightarrow v \\in U^{\\bot}$\n",
    "\n",
    "---\n",
    "\n",
    "**Maschke’s Theorem**: Suppose α is a representation of the finite\n",
    "group $G$ over $k$ ($\\vert G \\vert \\ne 0 \\ in \\ k$). Then α is semisimple.\n",
    "\n",
    "The expression for a semisimple representation $\\alpha$ as a sum of simple parts $\\alpha = \\sigma_1+\\sigma_2+ ... + \\sigma_r$ is unique up to order.\n",
    "\n",
    "The character $\\chi_\\alpha:G \\rightarrow k$ is defined as $\\chi(g)=tr(\\alpha(g))$\n",
    "> $\\chi_{\\alpha+\\beta}(g)=\\chi_\\alpha(g)+\\chi_\\beta(g)$  \n",
    "> $\\chi_{\\alpha\\beta}(g)=\\chi_\\alpha(g)\\chi_\\beta(g)$  \n",
    "> $\\chi_{\\alpha^*}(g)=\\chi_{\\alpha}(g^{-1})$  \n",
    "> $\\chi_{1}(g)=1$  \n",
    "> $\\chi_\\alpha(e)=dim \\alpha$  \n",
    "\n",
    "Two representations are equivalent if and only if their characters are equal:\n",
    "> $\\alpha = \\beta \\Leftrightarrow \\chi_\\alpha(g)=\\chi_\\beta(g) \\ for \\ all \\ g\\in G$\n",
    "\n",
    "For representations of $G$ over $C$\n",
    ">$\\chi (I) = n$  \n",
    ">$\\vert \\chi(g) \\vert \\le n$,  \n",
    ">$\\vert \\chi(g) \\vert = n$ implies $g = e^{iθ}I$  \n",
    ">$\\chi$ is constant on any given conjugacy class of $G$  \n",
    ">$\\chi (g^{−1}) = \\chi^*(g)$  \n",
    ">$\\chi(g)$ is an algebraic number for all $g$.\n",
    "\n",
    "1. The number of simple representations of $G$ over $C$ is equal to the number of conjugacy classes in $G$\n",
    "2. The dimensions of the simple representations $σ_1, . . . , σ_s$ of $G$ over $C$ satisfy the relation  \n",
    ">$dim^2 σ_1 + · · · + dim^2 σ_s = \\vert G \\vert$.\n",
    "3. The dimension of each simple representation $σ_i$ divides the order of the group: $dim σ_i\\> |\\> \\vert G \\vert$.\n",
    "\n",
    "$\\alpha$ is representation of $G$ and $\\beta$ is representation of $H$, then $\\alpha \\times \\beta$ (over $U \\otimes V$) is representation of $G \\times H$. and $\\alpha \\times \\beta$ is simple iff $\\alpha$ and $\\beta$ are simple.\n",
    "\n"
   ]
  },
  {
   "cell_type": "markdown",
   "metadata": {},
   "source": [
    "Theorem. A representation of $G$ is irreducible if and only if $\\sum_{g \\in G} |\\chi(g)|^2 = \\vert G \\vert$\n",
    "\n",
    "The characters are orthogonal, that is: $\\sum_{i=1}^{r} r_i (\\chi^p_i)^* \\chi^q_i = |G|\\delta_{pq}$ and $\\sum_{p=1}^r (\\chi^p_i)^* \\chi^q_j = \\frac{|G|}{r_i}\\delta_{ij}$  \n",
    "where $p,q$ denote representations, $\\chi^p_i$ is the character of $i$th conjugacy calss in $p$th irreducable representation, and $r_i$ is size of $i$th conjugacy class.\n",
    "\n",
    "Theorem. If $\\rho$ is an arbitrary representation of $G$ with character $\\chi$, and $\\rho^p$ are the\n",
    "inequivalent irreducible representations of $G$ with characters $\\chi^p$, then $\\rho = \\bigoplus_p c_p \\rho^p$, where \n",
    "$c_p = \\frac{1}{|G|} \\sum_{i=1}^{r} r_i (\\chi_i^p)^*\\chi_i$\n",
    "\n",
    "The regular representation contains $dim \\rho^p$ instances of each irreducible representation: $\\chi_i^R = \\sum (dim \\rho^p)\\chi_i^p$\n",
    "\n",
    "\n",
    "\n"
   ]
  },
  {
   "cell_type": "code",
   "execution_count": 2,
   "metadata": {},
   "outputs": [
    {
     "data": {
      "text/latex": [
       "$$\\left [ \\left( 2\\right), \\quad \\left( 0\\; 1\\; 2\\right), \\quad \\left( 0\\; 2\\; 1\\right)\\right ]$$"
      ],
      "text/plain": [
       "[(2), (0 1 2), (0 2 1)]"
      ]
     },
     "metadata": {},
     "output_type": "display_data"
    },
    {
     "data": {
      "text/latex": [
       "$$\\left [ \\left[\\begin{matrix}1 & 0 & 0\\\\0 & 1 & 0\\\\0 & 0 & 1\\end{matrix}\\right], \\quad \\left[\\begin{matrix}0 & 1 & 0\\\\0 & 0 & 1\\\\1 & 0 & 0\\end{matrix}\\right], \\quad \\left[\\begin{matrix}0 & 0 & 1\\\\1 & 0 & 0\\\\0 & 1 & 0\\end{matrix}\\right]\\right ]$$"
      ],
      "text/plain": [
       "⎡⎡1  0  0⎤  ⎡0  1  0⎤  ⎡0  0  1⎤⎤\n",
       "⎢⎢       ⎥  ⎢       ⎥  ⎢       ⎥⎥\n",
       "⎢⎢0  1  0⎥, ⎢0  0  1⎥, ⎢1  0  0⎥⎥\n",
       "⎢⎢       ⎥  ⎢       ⎥  ⎢       ⎥⎥\n",
       "⎣⎣0  0  1⎦  ⎣1  0  0⎦  ⎣0  1  0⎦⎦"
      ]
     },
     "metadata": {},
     "output_type": "display_data"
    },
    {
     "data": {
      "text/latex": [
       "$$\\left [ \\left(\\lambda - 1\\right)^{3}, \\quad \\left(\\lambda - 1\\right) \\left(\\lambda^{2} + \\lambda + 1\\right), \\quad \\left(\\lambda - 1\\right) \\left(\\lambda^{2} + \\lambda + 1\\right)\\right ]$$"
      ],
      "text/plain": [
       "⎡       3          ⎛ 2        ⎞          ⎛ 2        ⎞⎤\n",
       "⎣(λ - 1) , (λ - 1)⋅⎝λ  + λ + 1⎠, (λ - 1)⋅⎝λ  + λ + 1⎠⎦"
      ]
     },
     "metadata": {},
     "output_type": "display_data"
    },
    {
     "data": {
      "text/latex": [
       "$$\\left [ \\left[\\begin{matrix}1 & 0 & 0\\\\0 & - \\frac{1}{2} - \\frac{\\sqrt{3} i}{2} & 0\\\\0 & 0 & - \\frac{1}{2} + \\frac{\\sqrt{3} i}{2}\\end{matrix}\\right], \\quad \\left[\\begin{matrix}1 & 0 & 0\\\\0 & - \\frac{1}{2} + \\frac{\\sqrt{3} i}{2} & 0\\\\0 & 0 & - \\frac{1}{2} - \\frac{\\sqrt{3} i}{2}\\end{matrix}\\right]\\right ]$$"
      ],
      "text/plain": [
       "⎡⎡1      0           0     ⎤  ⎡1      0           0     ⎤⎤\n",
       "⎢⎢                         ⎥  ⎢                         ⎥⎥\n",
       "⎢⎢     1   √3⋅ⅈ            ⎥  ⎢     1   √3⋅ⅈ            ⎥⎥\n",
       "⎢⎢0  - ─ - ────      0     ⎥  ⎢0  - ─ + ────      0     ⎥⎥\n",
       "⎢⎢     2    2              ⎥, ⎢     2    2              ⎥⎥\n",
       "⎢⎢                         ⎥  ⎢                         ⎥⎥\n",
       "⎢⎢                 1   √3⋅ⅈ⎥  ⎢                 1   √3⋅ⅈ⎥⎥\n",
       "⎢⎢0      0       - ─ + ────⎥  ⎢0      0       - ─ - ────⎥⎥\n",
       "⎣⎣                 2    2  ⎦  ⎣                 2    2  ⎦⎦"
      ]
     },
     "metadata": {},
     "output_type": "display_data"
    }
   ],
   "source": [
    "# Z3 sympy exercises\n",
    "import sympy.combinatorics.permutations as P\n",
    "import sympy.combinatorics.named_groups as G\n",
    "from sympy.matrices import eye\n",
    "from sympy import *\n",
    "init_printing(use_latex='mathjax')\n",
    "P.Permutation.print_cyclic\n",
    "c = G.CyclicGroup(3)\n",
    "el = [e for e in c.elements]\n",
    "el.sort(key=lambda x: c.coset_rank(x))\n",
    "display(el)\n",
    "m = eye(3)\n",
    "regR = [m.permuteFwd(e) for e in el]\n",
    "display(regR)\n",
    "lamda = symbols('lamda')\n",
    "poly=[factor(p.charpoly(lamda)) for p in regR]\n",
    "display(poly)\n",
    "(p1,d1) = regR[1].diagonalize()\n",
    "\n",
    "(p2,d2) = regR[2].diagonalize()\n",
    "#display(d1)\n",
    "\n",
    "p1_=simplify(p1**-1)\n",
    "display([simplify(p1_*regR[1]*p1),simplify(p1_*regR[2]*p1)])\n",
    "\n"
   ]
  },
  {
   "cell_type": "code",
   "execution_count": 3,
   "metadata": {},
   "outputs": [
    {
     "data": {
      "text/latex": [
       "$$e^{\\frac{2 \\pi}{3} i}$$"
      ],
      "text/plain": [
       " 2⋅ⅈ⋅π\n",
       " ─────\n",
       "   3  \n",
       "ℯ     "
      ]
     },
     "metadata": {},
     "output_type": "display_data"
    },
    {
     "data": {
      "text/latex": [
       "$$- \\frac{1}{2} + \\frac{\\sqrt{3} i}{2}$$"
      ],
      "text/plain": [
       "  1   √3⋅ⅈ\n",
       "- ─ + ────\n",
       "  2    2  "
      ]
     },
     "metadata": {},
     "output_type": "display_data"
    },
    {
     "data": {
      "text/latex": [
       "$$\\left [ \\left[\\begin{matrix}0 & -1\\\\1 & -1\\end{matrix}\\right], \\quad \\left[\\begin{matrix}-1 & 1\\\\-1 & 0\\end{matrix}\\right], \\quad \\left[\\begin{matrix}-1 & 1\\\\-1 & 0\\end{matrix}\\right]\\right ]$$"
      ],
      "text/plain": [
       "⎡⎡0  -1⎤  ⎡-1  1⎤  ⎡-1  1⎤⎤\n",
       "⎢⎢     ⎥, ⎢     ⎥, ⎢     ⎥⎥\n",
       "⎣⎣1  -1⎦  ⎣-1  0⎦  ⎣-1  0⎦⎦"
      ]
     },
     "metadata": {},
     "output_type": "display_data"
    }
   ],
   "source": [
    "w = exp(I*2*pi/3)\n",
    "display(w,w.expand(complex=true))\n",
    "m = Matrix([[0,-1],[1,-1]])\n",
    "display([m,m.inv(),m*m])"
   ]
  },
  {
   "cell_type": "markdown",
   "metadata": {},
   "source": [
    "3 representations over $C$: >$\\{1,1,1\\}$ $\\{1,w,w^2\\}$ $\\{1,w^2,w\\}$\n",
    "\n",
    "not trivial representation over $N$: $\\begin{bmatrix}\n",
    "1 & 0\\\\ \n",
    "0 & 1\n",
    "\\end{bmatrix}$, \n",
    "$\\begin{bmatrix}\n",
    "0 & -1\\\\ \n",
    "1 & -1\n",
    "\\end{bmatrix}$,\n",
    "$\\begin{bmatrix}\n",
    "-1 & 1\\\\ \n",
    "-1 & 0\n",
    "\\end{bmatrix}$\n",
    "\n",
    "not trivial orthogonal representation over $R$: $\\begin{bmatrix}\n",
    "1 & 0\\\\ \n",
    "0 & 1\n",
    "\\end{bmatrix}$, \n",
    "$\\begin{bmatrix}\n",
    "-\\frac{1}{2} & -\\frac{\\sqrt 3}{2}\\\\ \n",
    "\\frac{\\sqrt 3}{2} & -\\frac{1}{2}\n",
    "\\end{bmatrix}$,\n",
    "$\\begin{bmatrix}\n",
    "-\\frac{1}{2} & \\frac{\\sqrt 3}{2}\\\\ \n",
    "-\\frac{\\sqrt 3}{2} & -\\frac{1}{2}\n",
    "\\end{bmatrix}$\n",
    "\n"
   ]
  },
  {
   "cell_type": "markdown",
   "metadata": {
    "colab_type": "text",
    "id": "2kTGv-kKway0"
   },
   "source": [
    "## Pauli matrices\n",
    "\n",
    "$\\{±I,±iI,±X,±iX,±Y,±iY,±Z,±iZ\\}$\n",
    "One of Generator Sets: $\\langle iI,X,Y \\rangle$\n",
    "\n",
    "Center is $\\{±I,±iI\\}$\n",
    "\n"
   ]
  },
  {
   "cell_type": "code",
   "execution_count": 24,
   "metadata": {},
   "outputs": [
    {
     "data": {
      "text/latex": [
       "$$\\left [ \\left ( 0, \\quad e\\right ), \\quad \\left ( 1, \\quad X\\right ), \\quad \\left ( 2, \\quad Y\\right ), \\quad \\left ( 3, \\quad Z\\right ), \\quad \\left ( 4, \\quad - e\\right ), \\quad \\left ( 5, \\quad - X\\right ), \\quad \\left ( 6, \\quad - Y\\right ), \\quad \\left ( 7, \\quad - Z\\right ), \\quad \\left ( 8, \\quad i e\\right ), \\quad \\left ( 9, \\quad i X\\right ), \\quad \\left ( 10, \\quad i Y\\right ), \\quad \\left ( 11, \\quad i Z\\right ), \\quad \\left ( 12, \\quad - i e\\right ), \\quad \\left ( 13, \\quad - i X\\right ), \\quad \\left ( 14, \\quad - i Y\\right ), \\quad \\left ( 15, \\quad - i Z\\right )\\right ]$$"
      ],
      "text/plain": [
       "[(0, e), (1, X), (2, Y), (3, Z), (4, -e), (5, -X), (6, -Y), (7, -Z), (8, ⅈ⋅e),\n",
       " (9, ⅈ⋅X), (10, ⅈ⋅Y), (11, ⅈ⋅Z), (12, -ⅈ⋅e), (13, -ⅈ⋅X), (14, -ⅈ⋅Y), (15, -ⅈ⋅Z\n",
       ")]"
      ]
     },
     "metadata": {},
     "output_type": "display_data"
    }
   ],
   "source": [
    "e, X, Y, Z = symbols('e X Y Z')\n",
    "\n",
    "t = [e,X,Y,Z]\n",
    "pauliSymbols = [e,X,Y,Z]\n",
    "pauliSymbols.extend([-l for l in t])\n",
    "pauliSymbols.extend([I*l for l in t])\n",
    "pauliSymbols.extend([-I*l for l in t])\n",
    "\n",
    "display([(e,pauliSymbols[e]) for e in range(16)])"
   ]
  },
  {
   "cell_type": "code",
   "execution_count": 15,
   "metadata": {},
   "outputs": [
    {
     "data": {
      "text/latex": [
       "$$\\left( 0\\; 8\\; 4\\; 12\\right)\\left( 1\\; 9\\; 5\\; 13\\right)\\left( 2\\; 10\\; 6\\; 14\\right)\\left( 3\\; 11\\; 7\\; 15\\right)$$"
      ],
      "text/plain": [
       "Permutation(0, 8, 4, 12)(1, 9, 5, 13)(2, 10, 6, 14)(3, 11, 7, 15)"
      ]
     },
     "metadata": {},
     "output_type": "display_data"
    },
    {
     "data": {
      "text/latex": [
       "$$\\left( 0\\; 1\\right)\\left( 2\\; 11\\right)\\left( 3\\; 14\\right)\\left( 4\\; 5\\right)\\left( 6\\; 15\\right)\\left( 7\\; 10\\right)\\left( 8\\; 9\\right)\\left( 12\\; 13\\right)$$"
      ],
      "text/plain": [
       "Permutation(0, 1)(2, 11)(3, 14)(4, 5)(6, 15)(7, 10)(8, 9)(12, 13)"
      ]
     },
     "metadata": {},
     "output_type": "display_data"
    },
    {
     "data": {
      "text/latex": [
       "$$\\left( 0\\; 2\\right)\\left( 1\\; 15\\right)\\left( 3\\; 9\\right)\\left( 4\\; 6\\right)\\left( 5\\; 11\\right)\\left( 7\\; 13\\right)\\left( 8\\; 10\\right)\\left( 12\\; 14\\right)$$"
      ],
      "text/plain": [
       "Permutation(0, 2)(1, 15)(3, 9)(4, 6)(5, 11)(7, 13)(8, 10)(12, 14)"
      ]
     },
     "metadata": {},
     "output_type": "display_data"
    },
    {
     "data": {
      "text/latex": [
       "$$16$$"
      ],
      "text/plain": [
       "16"
      ]
     },
     "metadata": {},
     "output_type": "display_data"
    },
    {
     "data": {
      "text/latex": [
       "$$PermutationGroup([\n",
       "    (15),\n",
       "    (0 4)(1 5)(2 6)(3 7)(8 12)(9 13)(10 14)(11 15),\n",
       "    (0 8 4 12)(1 9 5 13)(2 10 6 14)(3 11 7 15),\n",
       "    (0 12 4 8)(1 13 5 9)(2 14 6 10)(3 15 7 11)])$$"
      ],
      "text/plain": [
       "                 PermutationGroup([                \n",
       "                         (15),                     \n",
       "    (0 4)(1 5)(2 6)(3 7)(8 12)(9 13)(10 14)(11 15),\n",
       "      (0 8 4 12)(1 9 5 13)(2 10 6 14)(3 11 7 15),  \n",
       "      (0 12 4 8)(1 13 5 9)(2 14 6 10)(3 15 7 11)]) "
      ]
     },
     "execution_count": 15,
     "metadata": {},
     "output_type": "execute_result"
    }
   ],
   "source": [
    "from sympy.combinatorics.perm_groups import PermutationGroup\n",
    "e8 = P.Permutation([8,9,10,11, 12,13,14,15, 4,5,6,7,  0,1,2,3])\n",
    "e1 = P.Permutation([1,0,11,14, 5,4,15,10,   9,8,7,2,  13,12,3,6])\n",
    "e2 = P.Permutation([2,15,0,9,  6,11,4,13,   10,3,8,5, 14,7,12,1])\n",
    "display(e8)\n",
    "display(e1)\n",
    "display(e2)\n",
    "\n",
    "p = PermutationGroup(e8,e1,e2)\n",
    "display(p.degree)\n",
    "p.center()"
   ]
  },
  {
   "cell_type": "code",
   "execution_count": 12,
   "metadata": {},
   "outputs": [
    {
     "name": "stdout",
     "output_type": "stream",
     "text": [
      "Order is: 16\n",
      "SubGroup Count is: 20\n"
     ]
    }
   ],
   "source": [
    "from sympy.combinatorics.free_groups import free_group\n",
    "from sympy.combinatorics.fp_groups import FpGroup\n",
    "from sympy.combinatorics.fp_groups import low_index_subgroups\n",
    "F, i, x, y = free_group(\"i, x y\")\n",
    "G = FpGroup(F, [i**4, x**2, i*x*i**-1*x**-1, y**2, i*y*i**-1*y**-1, (x*y)**4, i*i*x*y*x**-1*y**-1])\n",
    "print(\"Order is:\",G.order())\n",
    "l = low_index_subgroups(G,16)\n",
    "print(\"SubGroup Count is:\",len(l))\n",
    "#for t in l:\n",
    "#    print(len(t.table))"
   ]
  },
  {
   "cell_type": "markdown",
   "metadata": {},
   "source": [
    "## Fourier transforms\n",
    "\n",
    "Let $f$ be a function which maps group elements to complex numbers. For an irreducible representation $\\rho$ of $G$, of dimension $d_\\rho$, we define the Fourier transform of $f$ to be: $$\\widehat{f}(\\rho) \\equiv \\sqrt{\\frac{d_\\rho}{|G|}} \\sum_{g \\in G} f(g) \\rho(g)$$\n",
    "\n",
    "Inverse fourier transform will be: $$f(g) = \\frac{1}{\\sqrt{|G|}} \\sum_{\\rho in \\widehat{G}} \\sqrt{d_{\\rho}} tr(\\widehat{f}(\\rho) \\rho(g^{-1}))$$\n",
    "\n",
    "for $Z_n$ the formules simplify to usual finite discrete fourier transforms.\n",
    "\n"
   ]
  },
  {
   "cell_type": "markdown",
   "metadata": {
    "colab_type": "text",
    "id": "qKnYlkC85wYe"
   },
   "source": [
    "## Links\n",
    "\n",
    "[breif intro to Representations of finite groups](https://www.maths.tcd.ie/pub/Maths/Courseware/GroupRepresentations/FiniteGroups.pdf)\n",
    "\n",
    "[combinatorics, Permutation Group](http://www.di.fc.ul.pt/~jpn/r/combinatorics/combinatorics.html)\n",
    "\n",
    "[EFFICIENT COMPUTATION OF THE FOURIER TRANSFORM ON FINITE GROUPS](https://www.ams.org/journals/jams/1990-03-02/S0894-0347-1990-1030655-4/S0894-0347-1990-1030655-4.pdf)\n",
    "\n",
    "[RECENT RESULTS IN GENERALIZED FAST FOURIER TRANSFORMS](https://www.math.hmc.edu/seniorthesis/archives/2005/emalm/emalm-2005-expository.pdf)\n",
    "\n",
    "\n",
    "https://en.wikipedia.org/wiki/Noncommutative_harmonic_analysis\n"
   ]
  },
  {
   "cell_type": "markdown",
   "metadata": {
    "colab_type": "text",
    "id": "bvfvSdff8Jqw"
   },
   "source": [
    "\n"
   ]
  }
 ],
 "metadata": {
  "colab": {
   "collapsed_sections": [],
   "default_view": {},
   "name": "IntroToGroups2.ipynb",
   "provenance": [
    {
     "file_id": "1Ma7r-JidwKhND7teEvgN4jIY_OXtSWbL",
     "timestamp": 1533036368454
    }
   ],
   "version": "0.3.2",
   "views": {}
  },
  "kernelspec": {
   "display_name": "Python 3",
   "language": "python",
   "name": "python3"
  },
  "language_info": {
   "codemirror_mode": {
    "name": "ipython",
    "version": 3
   },
   "file_extension": ".py",
   "mimetype": "text/x-python",
   "name": "python",
   "nbconvert_exporter": "python",
   "pygments_lexer": "ipython3",
   "version": "3.6.6"
  }
 },
 "nbformat": 4,
 "nbformat_minor": 1
}
