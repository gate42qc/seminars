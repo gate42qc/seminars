{
 "cells": [
  {
   "cell_type": "markdown",
   "metadata": {
    "colab_type": "text",
    "id": "KqUWVt0IQUQc"
   },
   "source": [
    "## Lie groups and representations\n",
    "\n",
    "A (complex) **Lie group** is a finite dimensional smooth (complex) manifold $G$ together with a group structure on $G$, such that the multiplication $G \\times G \\rightarrow G$ and the attaching of an inverse $g \\mapsto g^1:G \\rightarrow G$ are smooth maps.\n",
    "\n",
    "A **matrix Lie** group is any subgroup $H$ of $GL(n;C)$. $H$ is a closed subset: if $A_n$ is any sequence of matrices in $H$, and $A_n$ converges to some matrix $A$, then either $A \\in H$, or $A$ is not invertible.\n",
    "\n",
    "### Counterexamples.  \n",
    "Set of all $n \\times n$ invertible matrices all of whose entries are rational. This is in fact a subgroup of $GL(n;\\mathbb{C})$, but not a closed subgroup.  \n",
    "Subgroup of $GL(n;\\mathbb{C})$ : Let $a$ be an irrational real number, and let\n",
    "$H = \n",
    "\\begin{Bmatrix}\n",
    "\\begin{pmatrix}\n",
    "e^{it} & 0\\\\ \n",
    "0 & e^{ita}\n",
    "\\end{pmatrix}\n",
    "\\vert t \\in \\mathbb{R}\n",
    "\\end{Bmatrix}\n",
    "$\n",
    "\n",
    "We can find a sequence wich converges to $-I$, but it does not belong to $H$. The closure of H is a 2 dimensional torus: $H = \n",
    "\\begin{Bmatrix}\n",
    "\\begin{pmatrix}\n",
    "e^{it} & 0\\\\ \n",
    "0 & e^{is}\n",
    "\\end{pmatrix}\n",
    "\\vert t,s \\in \\mathbb{R}\n",
    "\\end{Bmatrix}\n",
    "$\n"
   ]
  },
  {
   "cell_type": "markdown",
   "metadata": {},
   "source": [
    "### Examples.\n",
    "General linear groups: $GL(n;\\mathbb{R}) \\lt GL(n;\\mathbb{C})$\n",
    "\n",
    "Special linear groups: $SL(n;\\mathbb{R})$ and $SL(n;\\mathbb{C})$, matrices having determinant one.\n",
    "\n",
    "orthogonal and special orthogonal groups: $O(n), SO(n)$. real matrices  \n",
    "> column vectors that make up $A$ are orthonormal, that is, $\\sum_{i=1}^nA_{ij}A_{ik} = \\delta_{jk}$  \n",
    "> $\\langle x,y \\rangle = \\langle Ax,Ay \\rangle$  \n",
    "> $A^{tr} A = I$  \n",
    "$det(A) = \\pm 1$\n",
    "\n",
    "unitary and special unitary groups, $U(n)$ and $SU(n)$: $A^\\dagger A = I$  \n",
    "$\\vert det(A) \\vert = 1$\n",
    "\n",
    "complex orthogonal groups, $O(n;\\mathbb{C})$ and $SO(n;\\mathbb{C})$\n",
    "\n",
    "generalized orthogonal $O(n;k)$  \n",
    "> Define a symmetric bilinear form $[...]_{n+k}$ on $\\mathbb{R}^{n+k}$: $$[x,y]_{n,k} = x_1 y_1 + ... + x_n y_n - x_{n+1} y_{n+1} - ... - x_{n+k} y_{n+k}$$    \n",
    "> $A \\in O(n;k) \\Longrightarrow [Ax,Ay]=[x,y] for all x,y \\in \\mathbb{R}^{n+k}$  \n",
    "> $A^{tr} g A = g$ where $g$ is diagonal matrix (metric tensor) with 1 in first $n$ positions and -1 in last $k$.  \n",
    "$det(A) = \\pm 1$\n",
    "\n",
    "Lorentz group: $O(3; 1)$\n",
    "\n",
    "symplectic groups $Sp(n;\\mathbb{R})$, $Sp(n;\\mathbb{C})$, and $Sp(n)$  \n",
    "> Consider the skew-symmetric bilinear form $B$ on $\\mathbb{R}^{2n}$ defined as: $B[x,y] = \\sum_{i=1}^n x_i y_{n+i} - x_{n+i} y_i$  \n",
    "> $B[Ax,Ay] = B[x,y]$ for all $x,y$  \n",
    "> if $J(2n \\times 2n) = \n",
    "\\begin{pmatrix}\n",
    "0 & I\\\\ \n",
    "-I & 0\n",
    "\\end{pmatrix}$, then $A^{tr} J A = J$  \n",
    "> $Sp(n) = Sp(n;\\mathbb{C}) \\cap U(2n)$  \n",
    "> $det(A) = 1$\n",
    "\n",
    "The Heisenberg group $H$:  $A = \n",
    "\\begin{pmatrix}\n",
    "1 & a & b\\\\ \n",
    "0 & 1 & c\\\\ \n",
    "0 & 0 & 1\n",
    "\\end{pmatrix}\n",
    "$; $A^{-1} = \n",
    "\\begin{pmatrix}\n",
    "1 & -a & ac-b\\\\ \n",
    "0 & 1 & -c\\\\ \n",
    "0 & 0 & 1\n",
    "\\end{pmatrix}\n",
    "$; \n",
    "$H$ is subgroup of GL(n;\\mathbb{R})$\n",
    "\n",
    "\n",
    "$\\mathbb{R}^* \\simeq GL(1;\\mathbb{R})$, $\\mathbb{C}^* \\simeq GL(1;\\mathbb{C})$, $S^1 \\simeq U(1)$, \n",
    "$\\mathbb{R}^n \\simeq \\begin{pmatrix}\n",
    "e^{x_1} &   & 0\\\\ \n",
    "  & ... &  \\\\ \n",
    "0 &   & e^{x_n}\n",
    "\\end{pmatrix}$\n",
    "\n"
   ]
  },
  {
   "cell_type": "markdown",
   "metadata": {},
   "source": [
    "### Euclidean and Poincar´e groups.\n",
    "\n",
    "Euclidean group $E(n)$ is by definition the group of all one-to-one, onto, distance-preserving maps of $\\mathbb{R}^n$\n",
    "to itself, that is, maps $f : \\mathbb{R}^n \\rightarrow \\mathbb{R}^n$ such that $d (f (x) , f (y)) = d (x, y)$ for all\n",
    "$x, y \\in \\mathbb{R}^n$.$E(n)$ is subgroup of $GL(n+1;\\mathbb{R})$. $T = T_x R$ where $R \\in O(n)$ and $T_x$ is translation by $x$  \n",
    "$T = \\begin{pmatrix}\n",
    " &  &  & x_1\\\\ \n",
    " & R &  & \\vdots\\\\ \n",
    " &  &  & x_n\\\\ \n",
    "0 & ...  & 0 & 1\n",
    "\\end{pmatrix}$\n",
    "\n",
    "Poincar´e group P(n; 1). affine transformations of $\\mathbb{R}^{n+1}$ which preserve the Lorentz distance $d_L(x, y) = (x_1 − y_1)^2 + · · · + (x_n − y_n)^2 − (x_{n+1} − y_{n+1})^2$. $T = T_x R$ where $R \\in O(n;1)$\n",
    "\n",
    "A matrix Lie group $G$ is said to be **compact** if it is closed ($A_n \\leftarrow A \\in G$) and bounded ($A_{ij} \\lt Constant$)\n",
    "\n",
    "A matrix Lie group $G$ is said to be **connected** if given any two matrices $A$ and $B$ in $G$, there exists a continuous path $A(t), a \\le t \\le b$, lying in $G$ with $A(a) = A$, and $A(b) = B$.  \n",
    "For matrix Lie groups topological definitions of path-connected and connected are identical.\n",
    "\n",
    "If $G$ is a matrix Lie group, then the component of $G$ containing the identity is a subgroup of $G$.\n",
    "\n",
    "A connected matrix Lie group $G$ is said to be simply connected if every loop in $G$ can be shrunk continuously to a point in $G$.  \n",
    "More precisely, $G$ is **simply connected** if given any continuous path $A(t), 0 ≤ t ≤ 1$, lying in $G$ with $A(0) = A(1)$, there exists a continuous function $A(s, t), 0 \\le s, t \\le 1$, taking values in $G$ with the following properties:  \n",
    ">1) $A(s, 0) = A(s, 1)$ for all $s$  \n",
    ">2) $A(0, t) = A(t)$  \n",
    ">3) $A(1, t) = A(1, 0)$ for all $t$\n",
    "\n"
   ]
  },
  {
   "cell_type": "markdown",
   "metadata": {},
   "source": [
    "$$\\begin{matrix}\n",
    " & Components & Simply \\space connected & dim & \\\\ \n",
    "GL(n;\\mathbb{C}) & 1 & no & n^2 & \\\\ \n",
    "SL(n;\\mathbb{C}) & 1  & yes & n^2 & \\\\\n",
    "GL(n;\\mathbb{R}) & 2 & no & n^2 & \\\\ \n",
    "SL(n;\\mathbb{R}) & 1 & no & n^2-1 & \\\\ \n",
    "O(n) & 2 &  & \\frac{n (n-1)}{2} & \\\\ \n",
    "SO(n) & 1 & no & \\frac{n (n-1)}{2} & \\\\ \n",
    "U(n) & 1 & no & n^2 & \\\\ \n",
    "SU(n) & 1 & yes & n^2-1 & \\\\ \n",
    "O(n;1) & 4 &  &  & \\\\ \n",
    "SO(n;1) & 2 & n=1 yes; n \\gt 1 no &  & \\\\ \n",
    "Heisenberg & 1 & yes &  & \\\\ \n",
    "E(n) & 2 &  &  & \\\\ \n",
    "P(n;1) & 4 &  &  & \\\\ \n",
    " &  &  &  & \n",
    "\\end{matrix}$$"
   ]
  },
  {
   "cell_type": "markdown",
   "metadata": {},
   "source": [
    "Theorem: Every matrix Lie group is a Lie group.\n",
    "\n",
    "Theorem: Let $G$ and $H$ be Lie groups, and $φ$ a group homomorphism from $G$ to $H$. Then if $φ$ is continuous it is also smooth.\n",
    "\n",
    "## Lie Algebras and the Exponential Mapping\n",
    "\n",
    "For any $n \\times n$ real or complex matrix $X$, the series $e^X = \\sum_{m=0}^\\infty \\frac{X^m}{m!}$ converges. The matrix exponential $e^X$ is a continuous function of $X$.\n",
    "\n",
    "$\\Vert A \\Vert = sup_{x \\neq 0} \\frac{\\Vert Ax \\Vert}{\\Vert x \\Vert}$ $\\Leftrightarrow$ $\\Vert A \\Vert$ is the smallest $\\lambda$, $\\Vert Ax \\Vert \\le \\lambda \\Vert x \\Vert$ for $x \\in $\\mathbb{C}^n$\n",
    "\n",
    "$\\sum_{m=0}^\\infty \\Vert \\frac{X^m}{m!} \\Vert \\le \\sum_{m=0}^\\infty \\frac{\\Vert X \\Vert ^m}{m!} = e^{\\Vert X \\Vert}$. (The sum converges absolutely) \n",
    "\n",
    "Let $X, Y$ be arbitrary $n \\times n$ matrices. Then\n",
    "> $e^0 = I$  \n",
    "> $(e^X)^{-1} = e^{-X}$  \n",
    "> $e^{(\\alpha + \\beta)X} = e^{\\alpha X} e^{\\beta X}$  \n",
    "> if $XY = YX$, then $e^{X+Y} = e^X e^Y = e^y e^x$  \n",
    "> $e^{C X C^{-1}} = C e^X C^{-1}$  \n",
    "> $\\Vert e^X \\Vert \\le e^{\\Vert X \\Vert}$\n",
    "\n",
    "$e^{tX}$ is a smooth curve in $\\mathbb{C}^{n \\times n}$. And $\\frac{d}{dt} e^{tX} = X e^{tX} = e^{tX} X$.  \n",
    "And particularly $\\left . \\frac{d}{dt} \\right |_{t=0} e^{tX} = X e^{tX} = e^{tX} X$.\n",
    "\n",
    "A Jordan–Chevalley decomposition of $X$ is an expression of it as a sum:  \n",
    "$X = X_{ss} + X_n$, where $X_{ss}$ is semisimple, $X_n$ is nilpotent, and $X_{ss}$ and $X_n$ commute. If such a decomposition exists it is unique, and $X_{ss}$ and $X_n$ are in fact expressible as polynomials in $X$.\n",
    "\n",
    "The function $log(z) = \\sum_{m=1}^\\infty (-1)^{m+1} \\frac{(z-1)^m}{m}$ is defined and analytic in a circle of radius one about $z=1$.  \n",
    "for all $\\vert z-1 \\vert \\lt 1$ $e^{logz} = z$  \n",
    "for all $\\vert u \\vert \\lt log2$, $\\vert e^u-1 \\vert \\lt 1$ and $log e^u = u$.\n",
    "\n",
    "The function $log(A) = \\sum_{m=1}^\\infty (-1)^{m+1} \\frac{(A-I)^m}{m}$ is defined and continuous on the set of all $n \\times n$ complex matrices $A$ with $\\Vert A-I \\Vert \\lt 1$, and $log A$ is real if $A$ is real.  \n",
    "for all $\\Vert A-I \\Vert \\lt 1$ $e^{logA} = A$  \n",
    "for all $\\Vert X \\Vert \\lt log2$, $\\Vert e^A-1 \\Vert \\lt 1$ and $log e^X = X$.\n",
    "\n",
    "Lie Product Formula (Trotter formula): $e^{X+Y} = \\lim_{m \\to \\infty} (e^{\\frac{X}{m}}e^{\\frac{Y}{m}})^m$\n",
    "\n",
    "Theorem: $det(e^X)=e^{tr(X)}$\n",
    "\n",
    "$A : \\mathbb{R} \\to GL(n;\\mathbb{C})$ is called a one-parameter group if  \n",
    "> $A$ is continuous  \n",
    "> $A(0) = I$  \n",
    "> $A(t+s) = A(t) A(s)$ for all $t,s \\in \\mathbb{R}$\n",
    "\n",
    "If $A$ is a one-parameter group in $GL(n;\\mathbb{C})$, then there exists unique $X$, such that $A(t) = e^{tX}$\n",
    "\n"
   ]
  },
  {
   "cell_type": "markdown",
   "metadata": {},
   "source": [
    "Let $G$ be a matrix Lie group. Then the **Lie algebra** of $G$, denoted $\\mathfrak{g}$, is the set of all matrices $X$ such that $e^{tX}$ is in $G$ for all real numbers $t$. (In physics usually $e^{itX}$ is used).\n",
    "\n",
    "$GL(n;\\mathbb{C}) \\Longrightarrow gl(n;\\mathbb{C})$, all complex matrices.  \n",
    "$GL(n;\\mathbb{R}) \\Longrightarrow gl(n;\\mathbb{g})$, all real matrices.  \n",
    "$SL(n;\\mathbb{C}) \\Longrightarrow sl(n;\\mathbb{C})$, all complex matrices with trace 0.  \n",
    "$SL(n;\\mathbb{R}) \\Longrightarrow sl(n;\\mathbb{R})$, all real matrices with trace 0.  \n",
    "$U(n) \\Longrightarrow u(n)$, all complex matrices that $X^\\dagger = -X$  \n",
    "$su(n)$, complex matrices that $X^\\dagger = -X$ and $tr(X)=0$  \n",
    "$O(n)$ and $SO(n) \\Longrightarrow so(n)$, all real such that $X^{tr} = -X$  \n",
    "$o(n;k), so(n;k)$ all real such that $gX^{tr}g = X$  \n",
    "$sp(n;\\mathbb{R})$ all that $J X^{tr} J = X$  \n",
    "Heisenberg group: $X = \\begin{pmatrix}\n",
    "0 & \\alpha & \\beta \\\\ \n",
    "0 & 0 & \\gamma \\\\ \n",
    "0 & 0 & 0\n",
    "\\end{pmatrix}$ and $e^{tX} = \\begin{pmatrix}\n",
    "1 & t\\alpha & t\\beta + t^2 \\alpha \\gamma \\frac{1}{2} \\\\ \n",
    "0 & 1 & t\\gamma \\\\ \n",
    "0 & 0 & 1\n",
    "\\end{pmatrix}$  \n",
    "\n",
    "Let $G$ be a matrix Lie group, and $X$ an element of its Lie\n",
    "algebra. Then $e^X$ is an element of the identity component of $G$.\n",
    "\n",
    "Let $G$ be a matrix Lie group with Lie algebra $\\mathfrak{g}$. $X,Y \\in \\mathfrak{g}$ and $A \\in G$.  \n",
    "> $AXA^{-1} \\in \\mathfrak{g}$  \n",
    "> $sX \\in \\mathfrak{g}$ for all real s  \n",
    "> $X+Y \\in \\mathfrak{g}$  \n",
    "> $XY - YX \\in \\mathfrak{g}$. (for physics convention $-i(XY - YX) \\in \\mathfrak{g}$)\n",
    "\n",
    "**main theorem**\n",
    "Let $G$ and $H$ be matrix Lie groups, with Lie algebras $\\mathfrak{g}$ and $\\mathfrak{h}$, respectively. Suppose that $\\phi : G \\rightarrow H$ be a Lie group homomorphism. Then there exists a unique real linear map $\\tilde{\\phi} : \\mathfrak{g} \\rightarrow \\mathfrak{h}$ such that $\\phi(e^X) = e^{\\tilde{\\phi}(X)}$ for all $X \\in \\mathfrak{g}$ .\n",
    "> $\\tilde{\\phi}(AXA^{-1}) = \\phi(A) \\tilde{\\phi}(X) \\phi(A)^{-1}$  \n",
    "> $\\tilde{\\phi}([X,Y]) = [\\tilde{\\phi}(X), \\tilde{\\phi}(Y)]$  \n",
    "> $\\tilde{\\phi}(X) = \\left . \\frac{d}{dx} \\right \\vert_{t=0} \\phi(e^{tX})$\n",
    "\n",
    "If $G, H, K$ are matrix Lie groups and $\\phi : G \\rightarrow H$, $\\psi : G \\rightarrow H$, then $\\widetilde{\\phi \\circ \\psi} = \\tilde{\\psi} \\circ \\tilde{\\psi}$\n",
    "\n",
    "Adjoint Mapping: the linear map $Ad A : \\mathfrak{g} \\rightarrow \\mathfrak{g}$, defined as $Ad A(X) = AXA^{-1}$.  $Ad : G \\rightarrow GL(\\mathfrak{g})$ is group homomorphism.\n",
    "\n",
    "Let $G$ be a matrix Lie group with Lie algebra $\\mathfrak{g}$. Then there\n",
    "exist a neighborhood $U$ of zero in $\\mathfrak{g}$ and a neighborhood $V$ of $I$ in $G$ such that the\n",
    "exponential mapping takes $U$ homeomorphically onto $V$ .\n",
    "\n",
    "If $G$ is a connected matrix Lie group, then every element $A$ of $G$ can be written in the form $A = e^{X_1}e^{X_2} · · · e^{X_n}$ for some $X1,X2, · · ·Xn \\in \\mathfrak{g}$.\n",
    "\n",
    "A finite-dimensional real or complex **Lie algebra** is a finite-dimensional real or complex vector space $\\mathfrak{g}$, together with a map $[ ]$ from $\\mathfrak{g} \\times \\mathfrak{g} \\to \\mathfrak{g}$ , with the following properties:  \n",
    "> $[]$ is bilinear.  \n",
    "> $[X, Y ] = −[Y,X]$ for all $X, Y \\in \\mathfrak{g}$.  \n",
    "> $[X, [Y,Z]] + [Y, [Z,X]] + [Z, [X, Y ]] = 0$ for all $X, Y,Z \\in \\mathfrak{g}$ (Jacobi identity).\n",
    "\n",
    "The space $\\mathfrak{g}l(n;R)$ of all $n \\times n$ real matrices is a real Lie algebra.\n",
    "\n",
    "Linear maps of $V$ into itself $\\mathfrak{g}l(V)$ becomes a real or complex Lie algebra with the bracket operation $[A,B] = AB − BA$.\n",
    "\n",
    "Every finite-dimensional real Lie algebra is isomorphic to a subalgebra of $\\mathfrak{g}l(n;R)$. Every finite-dimensional complex Lie algebra is isomorphic to a (complex) subalgebra of \\mathfrak{g}l(n;C)$. (This is\n",
    "in contrast to the situation for Lie groups, where most but not all Lie groups are\n",
    "matrix Lie groups.)\n",
    "\n",
    "Let $\\mathfrak{g}$ be a finite-dimensional real or complex Lie algebra, and let $X_1, · · · ,X_n$ be a basis for $\\mathfrak{g}$ (as a vector space). Then for each $i, j$ $[X_i,X_j ]$ can be written uniquely in the form $[X_i,X_j ] = \\sum_{k=1}^n c_{ijk}X_k$. $c_{ijk}$ are called **structure constants**.\n",
    "\n",
    "$V$ is a finite-dimensional real vector space, then the **complexification** of $V$ , denoted $V_C$, is the space of formal linear combinations: $v_1 + iv_2$. With with $v_1, v_2 \\in V$.  $V$ is the real subspace of $V_C$.\n",
    "\n",
    "Let $\\mathfrak{g}$ be a finite-dimensional real Lie algebra, and $\\mathfrak{g}_C$ its complexification (as a real vector space). Then the bracket operation on $\\mathfrak{g}$ has a unique extension to $\\mathfrak{g}_C$ which makes $\\mathfrak{g}_C$ into a complex Lie algebra. The complex Lie algebra $\\mathfrak{g}_C$ is called the complexification of the real Lie algebra $\\mathfrak{g}$. $$[X_1 + iX_2, Y_1 + iY_2] = ([X_1, Y_1] − [X_2, Y_2]) + i ([X_1, Y_2] + [X_2, Y_1])$$\n",
    "\n",
    "\n",
    "$\\mathfrak{gl}(n;\\mathbb{R})_{\\mathbb{C}} \\simeq \\mathfrak{gl}(n;\\mathbb{C})$; \n",
    "$u(n)_{\\mathbb{C}} \\simeq \\mathfrak{g}l(n;\\mathbb{C})$; \n",
    "$\\mathfrak{sl}(n;\\mathbb{R})_{\\mathbb{C}} \\simeq \\mathfrak{sl}(n;\\mathbb{C})$; \n",
    "$so(n)_{\\mathbb{C}} \\simeq so(n;\\mathbb{C})$\n",
    "\n",
    "A given complex Lie algebra may have several non-isomorphic real forms.\n",
    "\n",
    "**main theorem (inverse)**\n",
    "1. Let $G$ and $H$ be matrix Lie groups, let $\\phi_1,\\phi_2 : G \\rightarrow H$ be Lie group homomorphisms. And let $\\tilde{\\phi_1},\\tilde{\\phi_2} : \\mathfrak{g} \\rightarrow \\mathfrak{h}$ be the associated Lie algebras homomorphisms. If $G$ is connected and $\\tilde{\\phi_1} = \\tilde{\\phi_2}$ then $\\phi_1 = \\phi_2$\n",
    "\n",
    "2. Let $G$ and $H$ be matrix Lie groups with Lie algebras $\\mathfrak{g},\\mathfrak{h}$. Let $\\tilde{\\phi} : \\mathfrak{g} \\rightarrow \\mathfrak{h}$ be a Lie algebra homomorphism. If $G$ is connected and simply connected, then there exists a unique Lie group homomorphism $\\phi : G \\rightarrow H$.  \n",
    "> $\\tilde{\\phi}(AXA^{-1}) = \\phi(A) \\tilde{\\phi}(X) \\phi(A)^{-1}$  \n",
    "> $\\tilde{\\phi}([X,Y]) = [\\tilde{\\phi}(X), \\tilde{\\phi}(Y)]$  \n",
    "> $\\tilde{\\phi}(X) = \\left . \\frac{d}{dx} \\right \\vert_{t=0} \\phi(e^{tX})$\n",
    "\n"
   ]
  },
  {
   "cell_type": "markdown",
   "metadata": {},
   "source": [
    "Let $G$ be a connected matrix Lie group. A universal covering group of G (or just **universal cover**) is a connected, simply connected Lie group $\\tilde{G}$, together with a Lie group homomorphism $\\phi : \\tilde{G} \\to G$ (called the projection map) with the following properties:  \n",
    "> $\\phi$ maps $\\tilde{G}$ onto $G$ (surjective)  \n",
    "> There is a neighborhood $U$ of $I$ in  $\\tilde{G}$ which maps homeomorphically under $\\phi$ onto a neighborhood $V$ of $I$ in $G$.\n",
    "\n",
    "If $G$ is any connected matrix Lie group, then a universal covering group $\\tilde{G}$ of $G$ exists and is unique up to canonical isomorphism.\n",
    "\n",
    "$G$ and $\\tilde{G}$ have the same Lie algebra:  \n",
    "Let $G$ be a connected matrix Lie group, $\\tilde{G}$ its universal cover, and $\\phi$ the projection map from $\\tilde{G}$ to $G$. Suppose that $\\tilde{G}$ is a matrix Lie group with Lie algebra $\\tilde{ \\mathfrak{g}}$. Then the associated Lie algebra map $\\tilde{\\phi} :\\tilde{ \\mathfrak{g}} \\to \\tilde{G}$ is an isomorphism.\n",
    "\n",
    "Example: The universal cover of $S_1$ is $\\mathbb{R}$, and the projection map is the map $x \\to e^{ix}$.\n"
   ]
  },
  {
   "cell_type": "markdown",
   "metadata": {},
   "source": [
    "finite-dimensional complex **representation** of $G$ is a Lie group homomorphism $\\Pi : G \\to GL(n;\\mathbb{C})$\n",
    "\n",
    "finite-dimensional complex representation of $\\mathfrak{g}$ is a Lie algebra homomorphism $\\pi$ of $\\mathfrak{g} \\to gl(n;\\mathbb{C})$\n",
    "\n",
    "$\\pi(X) = \\left . \\frac{d}{dx} \\right \\vert_{t=0} \\Pi (e^{tX})$\n",
    "\n",
    "A representation with no non-trivial invariant subspaces is called **irreducible**.\n",
    "\n",
    "A finite-dimensional representation of a group or Lie algebra, acting on a space $V$ , is said to be **completely reducible** if the following property is satisfied: Given an invariant subspace $W \\subset V$ , and a second invariant subspace $U \\subset W \\subset V$ , there exists a third invariant subspace $\\tilde{U} \\subset W$ such that $U \\cap \\tilde{U} = \\emptyset$ and $U \\cup \\tilde{U} = W$.\n",
    "\n",
    "Let $\\mathfrak{g}$ be a real Lie algebra, and $\\mathfrak{g}_C$ its complexification. Then every finite-dimensional complex representation $\\pi$ of $\\mathfrak{g}$ has a unique extension to a (complex-linear) representation of $\\mathfrak{g}_C$, also denoted $\\pi$. The representation of $\\mathfrak{g}_C$ satisfies: $\\pi (X + iY ) = \\pi (X) + i \\pi (Y )$ for all $X \\in \\mathfrak{g}$.\n",
    "\n",
    "Let $G$ be a matrix Lie group, let $H$ be a Hilbert space, and let $U(H)$ denote the group of unitary operators on $H$. Then a homomorphism $\\Pi : G \\to U(H)$ is called a **unitary representation** of $G$ if $\\Pi$ satisfies the following\n",
    "continuity condition: If $A_,A \\in G$ and $A_n \\to A$, then $\\Pi(A_n)v \\to \\Pi(A)v$ for all $v \\in H$. A unitary representation with no non-trivial closed invariant subspaces\n",
    "is called irreducible.\n",
    "\n",
    "A finite-dimensional completely reducible representation of a group or Lie algebra is equivalent to a direct sum of (one or more) irreducible representations.\n",
    "\n",
    "Let $G$ be a matrix Lie group. Let $\\Pi$ be a finite-dimensional unitary representation of $G$, acting on a finite-dimensional real or complex Hilbert space $V$ . Then $\\Pi$ is completely reducible.\n",
    "\n",
    "If $G$ is a finite group, then every finite-dimensional real or complex representation of $G$ is completely reducible.\n",
    "\n",
    "If $G$ is a compact matrix Lie group, then every finite-dimensional real or complex representation of $G$ is completely reducible.\n",
    "\n",
    "**Clebsch-Gordan** theory: Suppose $\\Pi_1,\\Pi_2$ are irreducible representations of a group $G$. If we regard\n",
    "$\\Pi_1 \\otimes \\Pi_2$ as a representation of $G$, it may no longer be irreducible. If it is not irreducible, one can attempt to decompose it as a direct sum of irreducible representations.\n",
    "\n",
    "**Schur’s Lemma**: \n",
    "> Let $V$ and $W$ be irreducible real or complex representations of a group or Lie algebra, and let $\\phi : V \\to W$ be a\n",
    "morphism. Then either $\\phi = 0$ or $\\phi$ is an isomorphism.  \n",
    "> Let $V$ be an irreducible complex representation of a group or Lie algebra, and let $\\phi : V \\to V$ be a morphism of $V$ with itself. Then $\\phi = \\lambda I$, for some $\\lambda \\in \\mathbb{C}$.  \n",
    "> Let $V$ and $W$ be an irreducible complex representation of a group or Lie algebra, and let $\\phi_1,\\phi_2 : V \\to W$ be non zero morphisms. Then $\\phi_1 = \\lambda \\phi_2$, for some $\\lambda \\in \\mathbb{C}$.\n",
    "\n",
    "An irreducible complex representation of a commutative group or Lie algebra is one-dimensional.\n"
   ]
  },
  {
   "cell_type": "markdown",
   "metadata": {
    "colab_type": "text",
    "id": "Y-wdbbJTQVD8"
   },
   "source": [
    "## SU(2) and SO(3)\n",
    "\n",
    "$SU(2)$ : $A = \\begin{pmatrix}\n",
    "\\alpha & -\\bar{\\beta} \\\\ \n",
    "\\beta & \\bar{\\alpha}\n",
    "\\end{pmatrix}$ where $\\vert \\alpha \\vert ^2 + \\vert \\beta \\vert ^2 = 1$ , that is we have $S^3$ in $\\mathbb{R}^4$. compact, path connected and simply connected.\n",
    "\n",
    "$SO(3)$ can be parametrized with $R(\\phi,\\vec{n})$, counterclockwise rotation about the axis through $\\vec{n}$ by angle $\\phi$. If $0 \\le \\phi \\le \\pi$, $\\vec{n}$ and $\\phi$ define exactly a unique rotation: except $R(\\pi, \\pm n)$ which are identical. We have a solid ball in $\\mathbb{R}^3$ with radius $\\pi$, Identity is the center of the ball, and antipodal points are glued together. compact, path connected but not simply connected.\n",
    "\n",
    "[Dirac belt Trick](https://vimeo.com/62228139) (or hand rotation, twice)\n",
    "\n",
    "Consider the space $V$ of all $2 \\times 2$ complex matrices which are self-adjoint and have trace zero. And inner product as $\\langle A,B \\rangle = trace(AB)$. This is a three dimensional vector space. With orthonormal basis $\\{ \\sigma_x,\\sigma_y,\\sigma_z \\}$. If $U \\in SU(2)$ then $UAU^{-1} \\in V$. $\\Phi_U(A) \\equiv UAU^{-1}$ is a linear map of $V$ into itself. More $\\langle \\Phi_U(A),\\Phi_U(B) \\rangle = \\langle A,B \\rangle$. $U \\to \\Phi_U$ is homomorphism and continuous.  \n",
    "Thus $U \\to \\Phi_U$ is a Lie group homomorphism of $SU(2)$ into $SO(3)$ (in fact two to one map: $\\Phi_U = \\Phi_{-U}$).\n",
    "\n",
    "\n",
    "\n",
    "\n",
    "\n"
   ]
  },
  {
   "cell_type": "markdown",
   "metadata": {
    "colab_type": "text",
    "id": "VVe8l1zVuig7"
   },
   "source": [
    "## Clifford group\n"
   ]
  },
  {
   "cell_type": "markdown",
   "metadata": {
    "colab_type": "text",
    "id": "qKnYlkC85wYe"
   },
   "source": [
    "## Links\n",
    "\n",
    "[An Elementary Introduction to Groups and Representations (Brian C. Hall)](https://arxiv.org/abs/math-ph/0005032)\n",
    "\n"
   ]
  },
  {
   "cell_type": "markdown",
   "metadata": {
    "colab_type": "text",
    "id": "bvfvSdff8Jqw"
   },
   "source": [
    "## To Look\n",
    "\n",
    "Symplectic group\n",
    "\n",
    "Orbit-stabilizer theorem and Burnside's lemma\n",
    "\n",
    "homomorphism theorems\n",
    "\n",
    "\n"
   ]
  },
  {
   "cell_type": "code",
   "execution_count": 12,
   "metadata": {
    "colab": {
     "autoexec": {
      "startup": false,
      "wait_interval": 0
     }
    },
    "colab_type": "code",
    "id": "l8cc2Jt6YmnC"
   },
   "outputs": [
    {
     "data": {
      "text/latex": [
       "$$\\left[\\begin{matrix}a & b\\\\c & d\\end{matrix}\\right]$$"
      ],
      "text/plain": [
       "⎡a  b⎤\n",
       "⎢    ⎥\n",
       "⎣c  d⎦"
      ]
     },
     "metadata": {},
     "output_type": "display_data"
    },
    {
     "data": {
      "text/latex": [
       "$$\\left ( \\left[\\begin{matrix}a \\overline{a} + c \\overline{c} & b \\overline{a} + d \\overline{c}\\\\a \\overline{b} + c \\overline{d} & b \\overline{b} + d \\overline{d}\\end{matrix}\\right], \\quad \\left[\\begin{matrix}a \\overline{a} + b \\overline{b} & a \\overline{c} + b \\overline{d}\\\\c \\overline{a} + d \\overline{b} & c \\overline{c} + d \\overline{d}\\end{matrix}\\right]\\right )$$"
      ],
      "text/plain": [
       "⎛⎡  _     _    _     _⎤  ⎡  _     _    _     _⎤⎞\n",
       "⎜⎢a⋅a + c⋅c  b⋅a + d⋅c⎥  ⎢a⋅a + b⋅b  a⋅c + b⋅d⎥⎟\n",
       "⎜⎢                    ⎥, ⎢                    ⎥⎟\n",
       "⎜⎢  _     _    _     _⎥  ⎢  _     _    _     _⎥⎟\n",
       "⎝⎣a⋅b + c⋅d  b⋅b + d⋅d⎦  ⎣c⋅a + d⋅b  c⋅c + d⋅d⎦⎠"
      ]
     },
     "execution_count": 12,
     "metadata": {},
     "output_type": "execute_result"
    }
   ],
   "source": [
    "from sympy import *\n",
    "init_printing(use_latex='mathjax')\n",
    "from sympy.physics.quantum.dagger import Dagger\n",
    "a, b, c, d = symbols('a b c d')\n",
    "m = Matrix([[a,b],[c,d]])\n",
    "display(m)\n",
    "Dagger(m)*m, m*Dagger(m)\n",
    "\n"
   ]
  },
  {
   "cell_type": "code",
   "execution_count": 1,
   "metadata": {},
   "outputs": [
    {
     "name": "stdout",
     "output_type": "stream",
     "text": [
      "aa\n"
     ]
    },
    {
     "data": {
      "text/plain": [
       "2"
      ]
     },
     "execution_count": 1,
     "metadata": {},
     "output_type": "execute_result"
    }
   ],
   "source": [
    "print('aa')\n",
    "1+1\n"
   ]
  },
  {
   "cell_type": "code",
   "execution_count": null,
   "metadata": {},
   "outputs": [],
   "source": []
  }
 ],
 "metadata": {
  "colab": {
   "collapsed_sections": [],
   "default_view": {},
   "name": "IntroToGroups2.ipynb",
   "provenance": [
    {
     "file_id": "1Ma7r-JidwKhND7teEvgN4jIY_OXtSWbL",
     "timestamp": 1533036368454
    }
   ],
   "version": "0.3.2",
   "views": {}
  },
  "kernelspec": {
   "display_name": "Python 3",
   "language": "python",
   "name": "python3"
  },
  "language_info": {
   "codemirror_mode": {
    "name": "ipython",
    "version": 3
   },
   "file_extension": ".py",
   "mimetype": "text/x-python",
   "name": "python",
   "nbconvert_exporter": "python",
   "pygments_lexer": "ipython3",
   "version": "3.6.6"
  }
 },
 "nbformat": 4,
 "nbformat_minor": 1
}
