{
 "cells": [
  {
   "cell_type": "markdown",
   "metadata": {
    "colab_type": "text",
    "id": "y9CY29EeGCK0"
   },
   "source": [
    "### Algebraic definition\n",
    "\n",
    "A set G equipped with operation $\\bullet$\n",
    "\n",
    "> Closure: $\\forall a,b \\in G, a \\bullet b \\in G$  \n",
    ">Associativity: $(a \\bullet b) \\bullet c = a \\bullet (b \\bullet c)$  \n",
    ">Identity element: $\\exists e \\in G, such \\ that \\ \\forall a \\in G \\ a \\bullet e = a$  \n",
    ">Inverse element: $\\forall a \\in G, \\exists a^{-1}, such \\ that \\ a \\bullet a^{-1} = e$\n",
    "\n",
    "Can be shown, that $e \\bullet a = a$ and $a^{-1} \\bullet a = e$ and inverse and e are unique\n",
    "\n",
    "**Abelian group**: $\\forall a,b \\in G, a \\bullet b = b \\bullet a$\n",
    "\n",
    "If a group is abelian, usually group operation is denoted by + and the identity element by 0\n",
    "\n",
    "As usual in algebra are difined Homomorphism, Isomorphism, Endomorphism, Automorphism. In Algebra isomorph groups are deemed the same.\n",
    "\n",
    "group homomorphism $f:G \\to H$ such that $f(g_1 \\bullet g_2) = f(g_1) * f(g_2)$\n",
    "\n",
    "**kernel** of a homomorphism is defined as the set of elements that get mapped to the identity element in the image.\n",
    "\n",
    "Group operation may be viewed as bijection from G to G.\n",
    "\n",
    "**Subgroup**: if H subset of G, which is closed under group operation and inverse operation. $H \\leq G$, proper subgroup: $H \\lt G$\n",
    "\n",
    "&nbsp;\n",
    "\n",
    "Finite groups can be described by **Cayley table**:\n",
    "\n",
    "$\n",
    "\\begin{bmatrix}\n",
    "& Elmnts & e & a & b & c  \\\\\n",
    "& e & e & a  & b & c  \\\\\n",
    "& a & a & a \\bullet a & a \\bullet b & a \\bullet c  \\\\\n",
    "& b & b & b \\bullet a & b \\bullet b & b \\bullet c  \\\\\n",
    "& c & c & c \\bullet a & c \\bullet b & c \\bullet c  \\\\\n",
    "\\end{bmatrix}\n",
    "$\n",
    "\n",
    "Group can be described by **Presentation of a group**:  \n",
    "\n",
    "$\\langle S \\vert R  \\rangle$ where S is set of generators and R is a set of rules\n",
    "\n",
    "free group $F_S$ over a given set $S$ consists of all expressions (a.k.a. words, or terms) that can be built from members of S: $\\langle S \\vert \\emptyset  \\rangle$\n",
    "\n"
   ]
  },
  {
   "cell_type": "markdown",
   "metadata": {
    "colab_type": "text",
    "id": "xra9GwcWGBbM"
   },
   "source": [
    "### Normal Subgroup\n",
    "\n",
    "**Coset left** (right): if $H \\lt G$, set defined by an element $gH = \\{g \\bullet h : h \\in H\\}$ ($Hg = \\{h \\bullet g : h \\in H\\}$)\n",
    "\n",
    "cosets form a partitioning of group, any element of a coset is a represantative of the coset. the number of distinct cosets is called index of subgroup. \n",
    "\n",
    "if $H \\lt G$ then $ index= \\frac {\\vert G  \\vert} {\\vert H  \\vert} $ . A finite groups  of prime size can not have subgroups.\n",
    "\n",
    "if $\\forall g \\in G : gH = Hg$, then $H$ is said to be a normal subgroup. Subgroups of  abelian group are normal.\n",
    "\n",
    "**Conjugacy class**: $Cl(a)=\\{ b \\in G : \\exists g \\in G \\text{ such that } b = gag^-1\\}$\n",
    "\n",
    "Conjugacy class is an equivalence relation and thus partitions the group. For abelian group $Cl(a) = \\{a\\}$\n",
    "\n",
    "group of **Inner automorphisms**; $Inn(G)$\n",
    ">$\\varphi_g: G \\rightarrow  G$ such that $\\varphi_g(x)=gxg^-1$  \n",
    "> $Inn(AbelianGroup) \\simeq \\{e\\}$  \n",
    ">Normal subgoup is preserved by inner automorphisms.  \n",
    ">kernel of a homomorphism is equal to a normal subgroup\n",
    "\n",
    "**Quotient group (factor group)**: we can define a group operation on cosets as the following $g_1H*g_2H=(g_1 \\bullet g_2)H$. \n",
    "\n",
    "If $H \\vartriangleleft G$ then  $G/H$ is a group. ( $G/\\{e\\}=G$ , $G/G=\\{e\\}$ )\n",
    "\n",
    "&nbsp;\n",
    "\n",
    "**Direct product**: $G \\times H$ is the ordered pairs $(g,h)$ where $g \\in G$ and $h \\in H$ such that $(g_1,h_1) \\bullet (g_2,h_2) == (g_1 * g_2, h_1*'h_2)$\n",
    "\n",
    "Let a group $P$ has 2 subgroups $G,H$. \n",
    "\n",
    "$\n",
    "P=G \\times H \n",
    "\\Leftrightarrow \n",
    "\\begin{cases}\n",
    " & G \\cap H == \\{e\\} \\\\ \n",
    " & \\text{ every element can be expressed in } g \\bullet h \\\\ \n",
    " & G \\text{ comutes with } H \\text{( or stronger:} G \\text{ and } H \\text{ are normal subgroups} \\\\\n",
    "\\end{cases}\n",
    "$\n",
    "\n",
    "\n"
   ]
  },
  {
   "cell_type": "markdown",
   "metadata": {
    "colab_type": "text",
    "id": "zx5M7e2RGAif"
   },
   "source": [
    "### Geometric definition\n",
    "\n",
    "**Transformation group (Group action)** : $\\varphi$ is a function of G on set X\n",
    "\n",
    "$\\varphi : G \\times X \\rightarrow X:(g,x) \\mapsto \\varphi(g,x) $ where $\\varphi(e,x)=x$, and $\\varphi$ is bijective map.\n",
    "\n",
    "**symmetric group**: defined over any set is the group whose elements are all the bijections from the set to itself. For finite set of size n, it is $S_n$: all permutations of finite set of size n.\n",
    "\n",
    "**Cayley's theorem**: every group can be realized as a subgroup of a symmetric group over some set\n",
    "\n",
    "**Orbit**: Suppose $G$ is a group acting on a set $S$. ${G_{.s}}$ the orbit of $s \\in S$ is defined as $\\{t \\in S \\vert \\exists g \\in G, g.t=s \\}$\n",
    "\n",
    "The set of orbits of (points x in) X under the action of G form a partition of X.\n",
    "\n",
    "A group action is termed **transitive** if it has exactly one orbit: $\\forall x,y \\in S, \\exists g \\in G , g.x = y$\n",
    "\n",
    "**Stabilizer (isotropy group)**: denoted $Stab_G(s)$, is defined as: $\\{ h \\in G \\mid \\ h.s = s \\} $.  \n",
    "\n",
    "Actions of groups on vector spaces are called **representations** of the group \n",
    "\n",
    "Alternativly a **representation** of a group G on a vector space V is a group homomorphism $\\varphi: G \\rightarrow GL(V,F)$\n",
    "\n",
    "**General linear group** : $GL(V,F)$ are all matrices over a field $F$, with 0 determinant (invertible).\n",
    "> $SL(n, F)$: determinant is 1. In $R^n$  volume and orientation preserving linear transformations  \n",
    "> $O(n)$: orthogonal matrcies $O^TO=I$. Preserves the dot product of vectors.  \n",
    ">$SU(n)$: n×n unitary matrices with determinant 1 on $\\mathbb{C}$\n",
    "\n",
    "\n",
    "A **faithful representation** is one in which the homomorphism G → GL(V) is injective; in other words, one whose kernel is the trivial subgroup {e} consisting only of the group's identity element.\n",
    "\n",
    "\n",
    "\n",
    "\n",
    "\n",
    "\n"
   ]
  },
  {
   "cell_type": "markdown",
   "metadata": {
    "colab_type": "text",
    "id": "ubnTUBxQUaOp"
   },
   "source": [
    "### examples\n",
    "\n",
    "small groups of order n:\n",
    "> n=1, the only  group {e} == **trivial group**\n",
    "\n",
    "> n=2, only one group $Z_2 \\simeq S_2$  \n",
    ">> $\n",
    "\\begin{bmatrix}\n",
    "&    & e & a \\\\\n",
    "& e & e & a \\\\\n",
    "& a & a & e \\\\\n",
    "\\end{bmatrix}\n",
    "$\n",
    "\n",
    "> n=3, only one group $Z_3$\n",
    ">>$\\begin{bmatrix}\n",
    "&    & e & a & b \\\\\n",
    "& e & e & a & b \\\\\n",
    "& a & a & b & e\\\\\n",
    "& b & b & e & a\\\\\n",
    "\\end{bmatrix}$  \n",
    ">> that is $b = a \\bullet a == a^2$\n",
    "\n",
    "> n=4, two non isomorphic groups\n",
    ">> $Z_4$  \n",
    ">>>$\\begin{bmatrix}\n",
    "&    & e & g & g^2 & g^3 \\\\\n",
    "& e & e & g & g^2 & g^3 \\\\\n",
    "& g & g & g^2 & g^3 & e\\\\\n",
    "& g^2 & g^2 & g^3 & e & g\\\\\n",
    "& g^3 & g^3 & e & g & g^2\\\\\n",
    "\\end{bmatrix}$  \n",
    ">> this can be viewed as a group of multiplications of $\\{1, i, -1, -i\\}$  \n",
    ">> one proper subgroup $Z_2 \\lt Z_4 : \\{ e, g^2 \\}$  \n",
    ">> this subgroup partitions the group to the following cosets: $\\{e, g^2\\}$, $\\{g, g^3\\}$\n",
    "\n",
    ">> Klein four-group $K_4$: \n",
    ">>>$\n",
    "\\begin{bmatrix}\n",
    "&  & e & a & b & c  \\\\\n",
    "& e & e & a  & b & c  \\\\\n",
    "& a & a & e & c & b  \\\\\n",
    "& b & b & c & e & a  \\\\\n",
    "& c & c & b & a & e  \\\\\n",
    "\\end{bmatrix}\n",
    "$\n",
    ">> 3 proper subgroups : $\\{ e, a \\},\\{ e, b \\},\\{ e, c \\}$  \n",
    ">> $K_4 = Z_2 \\times Z_2 $ and can be presented as $ \\langle a, b \\vert a^2,b^2, ab=ba  \\rangle$\n",
    "\n",
    "\n",
    "**symmetric group**:  $S_3$\n",
    "\n",
    "> order of the group is $3!=6$  \n",
    "> cycle examples:\n",
    ">>$(1,2) == \\begin{pmatrix}\n",
    "1 & 2 & 3\\\\ \n",
    "2 & 1 & 3\n",
    "\\end{pmatrix}$  \n",
    ">>$(1,2,3) == \\begin{pmatrix}\n",
    "1 & 2 & 3\\\\ \n",
    "2 & 3 & 1\n",
    "\\end{pmatrix}$  \n",
    "> elements (in cycles):  { e, (1,2), (1,3), (2,3), (1,2,3), (1,3,2) }  \n",
    "> first non abelian group:  (1,2)(2,3) = (1,2,3) and (2,3)(1,2)=(1,3,2)  \n",
    ">presentations: $\\langle a, b, c \\vert a^2,b^2, c^3, abc  \\rangle$ or $\\langle s_1, s_2 \\vert s_1^2,s_2^2, (s_1s_2)^3  \\rangle$ or $\\langle s, t \\vert s^3,t^2, (st)=ts^2  \\rangle$\n",
    "\n",
    "> proper subgroups: \n",
    ">>$Z_2$: {e,(1,2)}, {e,(1,3)}, {e,(2,3)}  \n",
    ">> $Z_3$: {e,(1,2,3), (1,3,2)}  \n",
    "> conjugacy class partitioning\n",
    ">> {e}  \n",
    ">>{ (1,2), (1,3), (2,3) }  \n",
    ">>{ (1,2,3), (1,3,2) } this is the only normal subgroup\n",
    "\n",
    ">$Inn(S_3) \\simeq S_3$\n",
    "\n",
    "**Cyclic group** of order n:  $Z_n$ : $\\langle a \\vert a^n  \\rangle$, that is one generator and $a^n = e$\n",
    "> $Z_n$ is abelian group\n",
    "\n",
    "> it may be looked as \n",
    ">> modulo n arithmetics  \n",
    ">> rotations by $2\\pi \\frac {m} {n}$\n",
    "\n",
    "**Free group** of order 1:  $F_1: \\langle a \\vert \\emptyset  \\rangle$\n",
    "> consists of all possible strings of $a$ and $a^{-1}$ reducted by the group identity $a \\bullet a^{-1} = e$  \n",
    "> for example $\"aaaaaa\"$ or $\"a^{-1}a^{-1}a^{-1}\"$  \n",
    ">  $F_1 \\simeq Z$ where $Z$ with + is treated as Cyclic goup\n"
   ]
  },
  {
   "cell_type": "markdown",
   "metadata": {
    "colab_type": "text",
    "id": "wjV1eMYMi1Q8"
   },
   "source": [
    "## example  Dihedral transformation group \n",
    "$D_n$ is the group of symmetries of a regular polygon (includes rotations and reflections).\n",
    "\n",
    "Orbit of a point in $R^2$ is the set of vertexes of a polygon.\n",
    "\n",
    "$D_n = \\langle r,s \\vert r^n, s^2, (sr)^2  \\rangle$, order of the group = 2n,  $D_3 \\simeq S_3$\n",
    "\n",
    "$(sr)^2=e \\Leftrightarrow srs=r^{-1}$\n",
    "\n",
    "$r_i==r^i; s_i==r_is \\Rightarrow r_ir_j=r_{i+j}, r_is_j=s_{i+j},s_jr_i=s_{i-j},s_is_j=r_{i-j}$ \n",
    "\n",
    "natural represantation in $R^2$: \n",
    "$\n",
    "r_i=\\begin{pmatrix}\n",
    "cos \\frac{2 \\pi i}{n} & -sin \\frac{2 \\pi i}{n}\\\\ \n",
    "sin \\frac{2 \\pi i}{n} & cos \\frac{2 \\pi i}{n}\n",
    "\\end{pmatrix}\n",
    ",\n",
    "s_i=\\begin{pmatrix}\n",
    "cos \\frac{2 \\pi i}{n} & sin \\frac{2 \\pi i}{n}\\\\ \n",
    "sin \\frac{2 \\pi i}{n} & -cos \\frac{2 \\pi i}{n}\n",
    "\\end{pmatrix}\n",
    "$\n",
    "\n",
    "$D_4 \\lt O(2)$, $D_4 \\lt SO(3)$\n",
    "\n",
    "$D_4$: group of symmetries of a square\n",
    "\n",
    "<img src=\"./images/dihedral1.jpg\" style=\"display: inline;\"/> <img src=\"./images/dihedral2.jpg\" style=\"display: inline;\"/>\n",
    "\n",
    "> conjucacy classes:\n",
    ">> $\\{e\\}$  \n",
    ">> $\\{r^2\\}$ rotation by $\\pi$  \n",
    ">> $\\{s,s_2\\}$ reflections horisontal and vertical  \n",
    ">> $\\{s_1,s_3\\}$ diagonal reflections  \n",
    ">> $\\{r,r^3\\}$ rotations by $\\pi/2$ and $3\\pi/2$\n",
    "\n",
    "> proper subgroups:\n",
    ">> $\\{e,r^2\\}$ Normal subgroup  \n",
    ">> $\\{e,s\\}$,$\\{e,s_1\\}$,$\\{e,s_2\\}$,$\\{e,s_3\\}$  \n",
    ">> $\\{e,s,r^2,r^2s\\}$, $\\{e,rs,r^2,r^3s\\}$  \n",
    ">> $\\{e,r,r^2,r^3\\}$  Normal subgroup\n",
    "\n",
    "> $Inn(D_4) \\simeq K_4$"
   ]
  },
  {
   "cell_type": "code",
   "execution_count": 2,
   "metadata": {
    "colab": {
     "autoexec": {
      "startup": false,
      "wait_interval": 0
     },
     "base_uri": "https://localhost:8080/",
     "height": 294
    },
    "colab_type": "code",
    "executionInfo": {
     "elapsed": 630,
     "status": "ok",
     "timestamp": 1533038764853,
     "user": {
      "displayName": "Nshan Barseghyan",
      "photoUrl": "https://lh3.googleusercontent.com/a/default-user=s128",
      "userId": "101804390887968984856"
     },
     "user_tz": -240
    },
    "id": "EEaBNg6YXTur",
    "outputId": "eed6f041-d3a4-4588-e7b3-b4806ba4d5d2"
   },
   "outputs": [
    {
     "data": {
      "text/latex": [
       "$$\\left [ 0, \\quad 1, \\quad 2, \\quad 3, \\quad 4\\right ]$$"
      ],
      "text/plain": [
       "[0, 1, 2, 3, 4]"
      ]
     },
     "metadata": {},
     "output_type": "display_data"
    },
    {
     "data": {
      "text/latex": [
       "$$\\left( 4\\right)$$"
      ],
      "text/plain": [
       "Permutation(4)"
      ]
     },
     "metadata": {},
     "output_type": "display_data"
    },
    {
     "name": "stdout",
     "output_type": "stream",
     "text": [
      "==================================================\n"
     ]
    },
    {
     "data": {
      "text/latex": [
       "$$\\left [ 2, \\quad 3, \\quad 4, \\quad 1, \\quad 0\\right ]$$"
      ],
      "text/plain": [
       "[2, 3, 4, 1, 0]"
      ]
     },
     "metadata": {},
     "output_type": "display_data"
    },
    {
     "data": {
      "text/latex": [
       "$$\\left( 0\\; 2\\; 4\\right)\\left( 1\\; 3\\right)$$"
      ],
      "text/plain": [
       "Permutation(0, 2, 4)(1, 3)"
      ]
     },
     "metadata": {},
     "output_type": "display_data"
    },
    {
     "name": "stdout",
     "output_type": "stream",
     "text": [
      "==================================================\n"
     ]
    },
    {
     "data": {
      "text/latex": [
       "$$\\left [ 4, \\quad 1, \\quad 0, \\quad 3, \\quad 2\\right ]$$"
      ],
      "text/plain": [
       "[4, 1, 0, 3, 2]"
      ]
     },
     "metadata": {},
     "output_type": "display_data"
    },
    {
     "data": {
      "text/latex": [
       "$$\\left( 0\\; 4\\; 2\\right)$$"
      ],
      "text/plain": [
       "Permutation(0, 4, 2)"
      ]
     },
     "metadata": {},
     "output_type": "display_data"
    },
    {
     "name": "stdout",
     "output_type": "stream",
     "text": [
      "==================================================\n"
     ]
    }
   ],
   "source": [
    "# some sympy Permutation examples\n",
    "\n",
    "# this is needed for google.colab\n",
    "#from IPython.display import HTML\n",
    "#display(HTML(\"<script src='https://cdnjs.cloudflare.com/ajax/libs/mathjax/2.7.3/latest.js?config=default'></script>\"))\n",
    "\n",
    "from sympy import init_printing\n",
    "init_printing(use_latex='mathjax')\n",
    "\n",
    "import sympy.combinatorics.permutations as P\n",
    "\n",
    "p1 = P.Permutation(4)\n",
    "display(p1.array_form)\n",
    "display(p1)  #p1.cyclic_form\n",
    "print('='*50)\n",
    "\n",
    "p1 = P.Permutation(3,1)(0,2,4)\n",
    "display(p1.array_form)\n",
    "display(p1)\n",
    "print('='*50)\n",
    "\n",
    "p2=p1*p1\n",
    "display(p2.array_form)\n",
    "display(p2)\n",
    "print('='*50)\n"
   ]
  },
  {
   "cell_type": "code",
   "execution_count": 4,
   "metadata": {
    "colab": {
     "autoexec": {
      "startup": false,
      "wait_interval": 0
     },
     "base_uri": "https://localhost:8080/",
     "height": 36
    },
    "colab_type": "code",
    "executionInfo": {
     "elapsed": 582,
     "status": "ok",
     "timestamp": 1533038971087,
     "user": {
      "displayName": "Nshan Barseghyan",
      "photoUrl": "https://lh3.googleusercontent.com/a/default-user=s128",
      "userId": "101804390887968984856"
     },
     "user_tz": -240
    },
    "id": "l8cc2Jt6YmnC",
    "outputId": "edf22264-3a6f-4017-8db0-638284cabdc3"
   },
   "outputs": [
    {
     "data": {
      "text/plain": [
       "['c', 'd', 'e', 'b', 'a']"
      ]
     },
     "execution_count": 4,
     "metadata": {},
     "output_type": "execute_result"
    }
   ],
   "source": [
    "p1('abcde')"
   ]
  },
  {
   "cell_type": "code",
   "execution_count": 11,
   "metadata": {
    "colab": {
     "autoexec": {
      "startup": false,
      "wait_interval": 0
     },
     "base_uri": "https://localhost:8080/",
     "height": 36
    },
    "colab_type": "code",
    "executionInfo": {
     "elapsed": 611,
     "status": "ok",
     "timestamp": 1533039027532,
     "user": {
      "displayName": "Nshan Barseghyan",
      "photoUrl": "https://lh3.googleusercontent.com/a/default-user=s128",
      "userId": "101804390887968984856"
     },
     "user_tz": -240
    },
    "id": "VH5_kQj0L5qa",
    "outputId": "df541beb-61a0-4486-a6a4-bb5192e9605e"
   },
   "outputs": [
    {
     "data": {
      "text/latex": [
       "$$\\left [ \\left( 3\\right), \\quad \\left( 0\\; 3\\right)\\left( 1\\; 2\\right), \\quad \\left( 0\\; 1\\; 2\\; 3\\right), \\quad \\left( 1\\; 3\\right), \\quad \\left( 0\\; 2\\right)\\left( 1\\; 3\\right), \\quad \\left( 0\\; 1\\right)\\left( 2\\; 3\\right), \\quad \\left( 0\\; 3\\; 2\\; 1\\right), \\quad \\left( 0\\; 2\\right)\\left( 3\\right)\\right ]$$"
      ],
      "text/plain": [
       "[(3), (0 3)(1 2), (0 1 2 3), (1 3), (0 2)(1 3), (0 1)(2 3), (0 3 2 1), (3)(0 2\n",
       ")]"
      ]
     },
     "execution_count": 11,
     "metadata": {},
     "output_type": "execute_result"
    }
   ],
   "source": [
    "import sympy.combinatorics.generators as G\n",
    "d = G.dihedral(4)\n",
    "list(d)"
   ]
  },
  {
   "cell_type": "code",
   "execution_count": 63,
   "metadata": {},
   "outputs": [
    {
     "name": "stdout",
     "output_type": "stream",
     "text": [
      "Order is: 24\n"
     ]
    }
   ],
   "source": [
    "#S3\n",
    "from sympy.combinatorics.free_groups import free_group, FreeGroup\n",
    "import sympy.combinatorics.fp_groups\n",
    "F, a, b = free_group(\"a, b\")\n",
    "G = FpGroup(F, [a**2, b**3, (a*b)**4])\n",
    "print(\"Order is:\",G.order())\n",
    "#l = sympy.combinatorics.fp_groups.low_index_subgroups(G,2)\n",
    "#for t in l:\n",
    "#    print(t.table)"
   ]
  },
  {
   "cell_type": "markdown",
   "metadata": {
    "colab_type": "text",
    "id": "-Jadw1yCMBGa"
   },
   "source": [
    "## Links\n",
    "\n",
    "[The Group Properties Wiki](https://groupprops.subwiki.org/wiki/Main_Page)  \n",
    "\n",
    "[Magma Computational Algebra System](http://magma.maths.usyd.edu.au/magma/)\n",
    "\n",
    "[GAP - Groups, Algorithms, Programming -a System for Computational Discrete Algebra](https://www.gap-system.org/)\n",
    "\n",
    "http://www.sagemath.org/\n",
    "\n",
    "[Handbook of Computational Group Theory. Derek F. Holt, Bettina Eick, Eamonn A. O'Brien](https://books.google.am/books?id=rnTLBQAAQBAJ&source=gbs_book_other_versions)\n",
    "\n",
    "https://docs.sympy.org/latest/modules/combinatorics/perm_groups.html\n",
    "\n",
    "https://people.maths.bris.ac.uk/~matyd/GroupNames/index.html"
   ]
  },
  {
   "cell_type": "code",
   "execution_count": null,
   "metadata": {},
   "outputs": [],
   "source": []
  }
 ],
 "metadata": {
  "colab": {
   "collapsed_sections": [],
   "default_view": {},
   "name": "IntroToGroups1.ipynb",
   "provenance": [],
   "version": "0.3.2",
   "views": {}
  },
  "kernelspec": {
   "display_name": "Python 3",
   "language": "python",
   "name": "python3"
  },
  "language_info": {
   "codemirror_mode": {
    "name": "ipython",
    "version": 3
   },
   "file_extension": ".py",
   "mimetype": "text/x-python",
   "name": "python",
   "nbconvert_exporter": "python",
   "pygments_lexer": "ipython3",
   "version": "3.6.6"
  }
 },
 "nbformat": 4,
 "nbformat_minor": 1
}
