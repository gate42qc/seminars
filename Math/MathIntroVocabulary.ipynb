{
 "cells": [
  {
   "cell_type": "markdown",
   "metadata": {
    "colab_type": "text",
    "id": "Su5pcjKAOKLu"
   },
   "source": [
    "## Set\n",
    "\n",
    "**Membership**: $a \\in \\{a,b,c,d\\}$  \n",
    "**Subset**: $\\{a,b\\} \\subset \\{a,b,c,d\\}$  \n",
    "**Cartesian product**: $A \\times B$; All ordered pairs $(a,b)$ such that $a \\in A, b \\in B$\n",
    "\n",
    "**partition of set**: a set of nonempty subsets such that every element $x$ in $X$ is in exactly one of these subsets. Partition defines **equivalence relation** and vice versa\n",
    "\n",
    "**power set**: $2^S$ is the set of all subsets of the set $S$.\n",
    "\n",
    "---\n",
    "\n",
    "**function** or **map**: $f: X \\rightarrow Y$\n",
    "\n",
    "*injective (one-to-one)*: $\\forall x_1,x_2 \\in X, f(x_1)=f(x_2) \\Rightarrow x_1=x_2$  \n",
    "![injective](https://upload.wikimedia.org/wikipedia/commons/thumb/0/02/Injection.svg/180px-Injection.svg.png)\n",
    "\n",
    "*surjective (onto)*:  $\\forall y \\in Y, \\exists x \\in X$ such that $y=f(x)$  \n",
    "![surjective](https://upload.wikimedia.org/wikipedia/commons/thumb/6/6c/Surjection.svg/180px-Surjection.svg.png)\n",
    "\n",
    "*Bijection*: injective and surjective\n",
    "\n",
    "---\n",
    "\n",
    "**cardinality** of a set is a measure of the \"number of elements of the set\". $\\vert S \\vert$  \n",
    "$\\vert \\{a,b,c\\} \\vert=3$  \n",
    "$\\vert \\mathbb{N} \\vert = \\aleph_0$\n",
    "\n",
    "**continuum hypothesis**: $2^{\\aleph_0}=\\aleph_1$. **Cantor's diagonal argument**:   $2^{\\aleph_0} \\gt \\aleph_0$. \n",
    "Euclidean line and square have the same cardinal number: $\\aleph_1$  \n",
    "(look also turing machine halting problem).\n",
    "\n",
    "\n",
    "**poset**: partialy ordered set\n",
    ">Reflexivity: $a \\le a$  \n",
    ">Antisymmetry: $a \\le b \\land b \\le a \\Rightarrow a=b$  \n",
    ">Transitivity $a \\le b \\land b \\le c \\Rightarrow a \\le c$\n",
    "\n",
    "\n"
   ]
  },
  {
   "cell_type": "markdown",
   "metadata": {
    "colab_type": "text",
    "id": "1lW_22O-OJvB"
   },
   "source": [
    "## Algebra\n",
    "\n",
    "set (domain $S$) equipped with operations (not only binary) $\\{f:S^n \\rightarrow S\\}$ (signature)\n",
    "\n",
    "**Group**\n",
    "> $group \\ operation:G \\times G \\rightarrow G$ denoted $\\bullet$  and $inverse:G \\rightarrow G$ denoted $g^-1$, such that  \n",
    ">Closure: $\\forall a,b \\in G, a \\bullet b \\in G$  \n",
    ">Associativity: $(a \\bullet b) \\bullet c = a \\bullet (b \\bullet c)$  \n",
    ">Identity element: $\\exists e \\in G, such \\ that \\ \\forall a \\in G \\ a \\bullet e = a$  \n",
    ">Inverse element: $\\forall a \\in G, \\exists a^{-1}, such \\ that \\ a \\bullet a^{-1} = e$\n",
    "\n",
    ">Usually $+$ denotes abelian group operation: $a+b = b+a$\n",
    "\n",
    "**Ring**\n",
    "> $a \\bullet b$ as monoid  \n",
    "> $a+b$ as abelian group  \n",
    "> distribution law: $a \\bullet (b+c) = a \\bullet b+a \\bullet c)$\n",
    "\n",
    "**Field**\n",
    "ring and multiplication is abelian group except for 0\n",
    "\n",
    "**Lattice**\n",
    ">Commutative laws: $a ∨ b = b ∨ a, a ∧ b = b ∧ a$  \n",
    ">Associative laws: $a ∨ (b ∨ c) = (a ∨ b) ∨ c, a ∧ (b ∧ c) = (a ∧ b) ∧ c$  \n",
    ">Absorption laws: $a ∨ (a ∧ b) = a, a ∧ (a ∨ b) = a$\n",
    "\n"
   ]
  },
  {
   "cell_type": "markdown",
   "metadata": {
    "colab_type": "text",
    "id": "9z_eH2HJOJ7x"
   },
   "source": [
    "## Space\n",
    "\n",
    "set with some added structure\n",
    "\n",
    "**vector space** $V$ over a field $F$\n",
    "\n",
    ">vector addition: $V \\times V \\rightarrow V$ is abelian group  \n",
    ">scalar multiplication: $F \\times V \\rightarrow V$  \n",
    ">Associativity f scalar multiplication: $f_1(f_2\\overrightarrow{v})= (f_1f_2)\\overrightarrow{v})$  \n",
    ">Distributivity of scalar sums: ($f_1+f_2)\\overrightarrow{v}= f_1\\overrightarrow{v}+f_2\\overrightarrow{v}$  \n",
    ">Distributivity of vector sums: $f(\\overrightarrow{v_1}+\\overrightarrow{v_2})=f\\overrightarrow{v_1}+f\\overrightarrow{v_2}$  \n",
    ">Scalar multiplication identity: $1\\overrightarrow{v}=\\overrightarrow{v}$\n",
    "\n",
    "**Inner product space**\n",
    ">Vector space with inner product $\\langle v,v\\rangle \\rightarrow F$  \n",
    ">Conjugate $\\langle v,w\\rangle=\\langle w,v\\rangle^*$  \n",
    ">Linear: $\\langle fv,w\\rangle=f\\langle v,w\\rangle$  and $\\langle x+y,z\\rangle=\\langle x,z\\rangle+\\langle y,z\\rangle$\n",
    "\n",
    "**Metric space**\n",
    "> $d: M \\times M \\rightarrow R$  \n",
    "> $d(x,y) \\ge 0 $, $d(x,y) = 0 \\Leftrightarrow x=y$, $d(x,y)=d(y,x)$, $d(x,z) \\le d(x,y)+d(y,z)$\n",
    "\n",
    "Cauchy sequence: $x_1,x_2,x_3, ...$ such that $\\forall \\epsilon \\gt 0, \\exists N, \\forall m,n \\gt N, d(x_m.x_n) \\lt \\epsilon$\n",
    "\n",
    "** topological space**\n",
    ">ordered pair $(X, \\tau)$, where $X$ is a set and $\\tau$ is a collection of subsets of $X$ (open sets), such that  \n",
    ">The empty set and $X$ itself belong to $\\tau$  \n",
    ">Any (finite or infinite) union of members of $\\tau$ still belongs to $\\tau$  \n",
    ">The intersection of any finite number of members of $\\tau$  still belongs to $\\tau$ \n",
    "\n",
    "**Hilbert space**: real or complex inner product space that is also a complete metric space\n",
    ">Complete inner product space (every Cauchy sequence of points in M has a limit that is also in M)\n",
    "\n",
    "**Manifold**: locally homeomorphic to Euclidean space\n",
    "\n"
   ]
  },
  {
   "cell_type": "markdown",
   "metadata": {
    "colab_type": "text",
    "id": "_d77gSLxjwX4"
   },
   "source": [
    "## common terminology\n",
    "\n",
    "**Subalgebra**:  subset of algebra closed in algebra operations\n",
    "\n",
    "**Subspace**: subset preserving the structure\n",
    "\n",
    "**Morphism**: a structure-preserving map from one mathematical structure to another one of the same type (homomorphism)\n",
    "\n",
    "**Isomorphism**: if morphism has inverse. Usually defines equivalence \n",
    "\n",
    "**Endomorphism**: if source and target are the same\n",
    "\n",
    "**Automorphism**: Isomorphism and Endomorphism\n",
    "\n",
    "**Homeomorphism** (topological isomorphism): continuous bijection, with continuous inverse\n",
    "\n"
   ]
  },
  {
   "cell_type": "code",
   "execution_count": 0,
   "metadata": {
    "colab": {
     "autoexec": {
      "startup": false,
      "wait_interval": 0
     }
    },
    "colab_type": "code",
    "id": "dfeUgzDXOBm5"
   },
   "outputs": [],
   "source": []
  }
 ],
 "metadata": {
  "colab": {
   "collapsed_sections": [],
   "default_view": {},
   "name": "MathIntroVocabulary.ipynb",
   "provenance": [],
   "version": "0.3.2",
   "views": {}
  },
  "kernelspec": {
   "display_name": "Python 3",
   "language": "python",
   "name": "python3"
  },
  "language_info": {
   "codemirror_mode": {
    "name": "ipython",
    "version": 3
   },
   "file_extension": ".py",
   "mimetype": "text/x-python",
   "name": "python",
   "nbconvert_exporter": "python",
   "pygments_lexer": "ipython3",
   "version": "3.6.6"
  }
 },
 "nbformat": 4,
 "nbformat_minor": 1
}
